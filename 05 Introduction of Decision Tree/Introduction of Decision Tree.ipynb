{
 "cells": [
  {
   "cell_type": "markdown",
   "metadata": {},
   "source": [
    "## <span style=\"font-family:Microsoft JhengHei;\">[決策樹 Decision Tree](https://scikit-learn.org/stable/modules/tree.html)</span>"
   ]
  },
  {
   "cell_type": "markdown",
   "metadata": {},
   "source": [
    "* <font size = 3.5 face = 'Microsoft JhengHei'>[Classification (本次介紹)](https://scikit-learn.org/stable/modules/generated/sklearn.tree.DecisionTreeClassifier.html#sklearn.tree.DecisionTreeClassifier)<font>\n",
    "* [Regression](https://scikit-learn.org/stable/modules/generated/sklearn.tree.DecisionTreeRegressor.html#sklearn.tree.DecisionTreeRegressor)"
   ]
  },
  {
   "cell_type": "markdown",
   "metadata": {},
   "source": [
    "### <span style=\"font-family:Microsoft JhengHei;\">[結構](https://www.researchgate.net/figure/Basic-structure-of-a-decision-tree-All-decision-trees-are-built-through-recursion_fig3_295860754)</span>"
   ]
  },
  {
   "cell_type": "markdown",
   "metadata": {},
   "source": [
    "<img class=\"public-figure-details__img\" src=\"https://www.researchgate.net/profile/Mei-Hung_Chiu/publication/295860754/figure/fig3/AS:333010919542789@1456407398669/Basic-structure-of-a-decision-tree-All-decision-trees-are-built-through-recursion.png\" alt=\"Basic structure of a decision tree. All decision trees are built through recursion. Decision trees are also not built upon various assumptions, such as normal distribution; collinearity or correlation between explanatory variables can also be ignored. &nbsp;\" height=\"500\" width=\"400\" itemprop=\"contentUrl\">"
   ]
  },
  {
   "cell_type": "markdown",
   "metadata": {},
   "source": [
    "### <span style=\"font-family:Microsoft JhengHei;\">資料</span>\n",
    "| ID | 性別 | 年齡 | 學歷 | 是否違約 |\n",
    "|:------:|:--------:|:------------:|:-----------:|:-------:|\n",
    "\n",
    "* <span style=\"font-family:Microsoft JhengHei;font-size:16px;\">__屬性__：\n",
    " 1. 性別\n",
    " 2. 年齡\n",
    " 3. 學歷\n",
    "</span>\n",
    "\n",
    "\n",
    "* <span style=\"font-family:Microsoft JhengHei;font-size:16px;\">__目標__：是否違約</span>"
   ]
  },
  {
   "cell_type": "markdown",
   "metadata": {},
   "source": [
    "## <span style=\"font-family:Microsoft JhengHei;\">決策樹依據何屬性分類?</span>\n",
    "><span style=\"font-family:Microsoft JhengHei;font-size:16px;\">利用屬性選擇指標找出資料值組最適之屬性</span>"
   ]
  },
  {
   "cell_type": "markdown",
   "metadata": {},
   "source": [
    "## <span style=\"font-family:Microsoft JhengHei;\">屬性選擇指標(Impurity 不純度)</span>\n",
    "<span style=\"font-family:Microsoft JhengHei;font-size:16px;\">目的：分割出的資料越純粹(pure)越好，即不純度越低越好</span>"
   ]
  },
  {
   "cell_type": "markdown",
   "metadata": {},
   "source": [
    "有兩種資料"
   ]
  },
  {
   "cell_type": "markdown",
   "metadata": {},
   "source": [
    "| ID | 性別 | 年齡 | 學歷 | 是否違約 |\n",
    "|:------:|:--------:|:------------:|:-----------:|:-------:|\n",
    "| 1 | 女 | 22 | 大學 | 否 |\n",
    "| 2 | 男 | 24 | 大學 | 否 |\n",
    "| 3 | 男 | 35 | 大學 | 是 |\n",
    "| 4 | 女 | 31 | 大學 | 否 |\n",
    "| 5 | 女 | 27 | 大學 | 否 |\n",
    "| 6 | 男 | 25 | 碩士 | 是 |\n",
    "| 7 | 男 | 23 | 高中 | 是 |\n",
    "| 8 | 女 | 35 | 碩士 | 否 |\n",
    "| 9 | 女 | 26 | 高中 | 否 |\n",
    "| 10 | 男 | 36 | 碩士 | 否 |"
   ]
  },
  {
   "cell_type": "markdown",
   "metadata": {},
   "source": [
    "$$ p_{k} = \\frac{1}{N} \\sum_{x_i \\in R}^{} I(y_i = k)$$"
   ]
  },
  {
   "cell_type": "markdown",
   "metadata": {},
   "source": [
    "<span style=\"font-family:Microsoft JhengHei;font-size:16px;\">以上資料集有10筆(N=10)無遺失值之資料，假設第一層(m = 1)用__性別__屬性來切割資料：</span>\n",
    "<br><span style=\"font-family:Microsoft JhengHei;font-size:16px;\">__性別__屬性有2類別(k = 男,女)，其中有5個男和5個女，因此性別為男和性別為女的機率分別為</span></br>\n",
    "$$ P_{男} = \\frac{1}{10} \\sum_{x_i \\in R_{性別}}^{} I(y_i = 男) =  \\frac{1}{10} \\times 5 = 0.5 $$\n",
    "$$ P_{女} = \\frac{1}{10} \\sum_{x_i \\in R_{性別}}^{} I(y_i = 女) =  \\frac{1}{10} \\times 5 = 0.5 $$\n",
    "\n",
    "<span style=\"font-family:Microsoft JhengHei;font-size:16px;\">若改用學歷屬性來切割資料：</span>\n",
    "<br><span style=\"font-family:Microsoft JhengHei;font-size:16px;\">__學歷__屬性有3類別(k = 高中,大學,碩士)，其中有2個高中、5個大學和3個碩士，因此__學歷__為高中、大學、碩士的機率分別為</span></br>\n",
    "$$ P_{高中} = \\frac{1}{10} \\sum_{x_i \\in R_{學歷}}^{} I(y_i = 高中) =  \\frac{1}{10} \\times 2 = 0.2 $$\n",
    "$$ P_{大學} = \\frac{1}{10} \\sum_{x_i \\in R_{學歷}}^{} I(y_i = 大學) =  \\frac{1}{10} \\times 5 = 0.5 $$\n",
    "$$ P_{碩士} = \\frac{1}{10} \\sum_{x_i \\in R_{學歷}}^{} I(y_i = 碩士) =  \\frac{1}{10} \\times 3 = 0.3 $$"
   ]
  },
  {
   "cell_type": "markdown",
   "metadata": {},
   "source": [
    "### <span style=\"font-family:Microsoft JhengHei;\">1. Information Gain 又叫Entropy(熵) -- ID3、C4.5、C5.0</span>\n",
    "<span style=\"font-family:Microsoft JhengHei;font-size:16px;\">$$ H(X_m) = - \\sum_{k}^{}p_{mk} log(p_{mk}) $$</span>\n",
    "\n",
    "<span style=\"font-family:Microsoft JhengHei;font-size:16px;\">$$ X_m：第m個node的訓練資料 $$</span>"
   ]
  },
  {
   "cell_type": "markdown",
   "metadata": {},
   "source": [
    "<span style=\"font-family:Microsoft JhengHei;\">以概似函數的型態來解讀的話，可看成機率函數為$f(x)={p_x}^{p_x}$的對數概似函數，過程如下：</span>\n",
    "\n",
    "設$X_1,X_2,…,X_n \\stackrel{iid}{\\sim} f(x_i;p)$，\n",
    "$$ L(p) = \\prod_{i=1}^{n} f(x_i;p) = \\prod_{i=1}^{n} {p_{x_i}}^{p_{x_i}} $$\n",
    "取log，\n",
    "$$ l(p)=\\sum_{i=1}^{n} log⁡({p_{x_i}}^{p_{x_i}}) =\\sum_{i=1}^{n} p_{x_i} log⁡(p_{x_i}) $$\n",
    "\n",
    "<span style=\"font-family:Microsoft JhengHei;\">概似函數越大越好，又熵的定義有加負號，因此熵的值越小越好。</span>"
   ]
  },
  {
   "cell_type": "markdown",
   "metadata": {},
   "source": [
    "<span style=\"font-family:Microsoft JhengHei;\">將兩資料用性別分類：</span>\n",
    " + <span style=\"font-family:Microsoft JhengHei;\">資料一：違約機率0.5、不違約機率0.5</span>\n",
    "      <br>$ Entropy=-0.5 \\times log⁡0.5 - 0.5 \\times log⁡0.5 = 0.3010 $</br>\n",
    "      \n",
    "   * <span style=\"font-family:Microsoft JhengHei;\">女生節點：違約機率0、不違約機率1</span>\n",
    "        <br>$ Entropy=-0 \\times log⁡0 - 1 \\times log⁡1 = 0 $</br>\n",
    "        \n",
    "   * <span style=\"font-family:Microsoft JhengHei;\">男生節點：違約機率1、不違約機率0</span>\n",
    "        <br>$ Entropy=-1 \\times log1 - 0 \\times log0 = 0 $</br>\n",
    "        \n",
    "    <span style=\"font-family:Microsoft JhengHei;\">__將兩者加權後之$Entropy=0 \\times \\frac{5}{10} + 0 \\times \\frac{5}{10} = 0$__</span>\n",
    "    \n",
    "    \n",
    " + <span style=\"font-family:Microsoft JhengHei;\">資料二：違約機率0.5、不違約機率0.5</span>\n",
    "      <br>$ Entropy=-0.5 \\times log⁡0.5 - 0.5 \\times log⁡0.5 = 0.3010 $</br>\n",
    "      \n",
    "\t* <span style=\"font-family:Microsoft JhengHei;\">女生節點：違約機率$\\frac{4}{9}$、不違約機率$\\frac{5}{9}$</span>\n",
    "        <br>$Entropy =-\\frac{4}{9} log⁡(\\frac{4}{9}) - \\frac{5}{9} log⁡(\\frac{5}{9}) = 0.2983$</br>\n",
    "        \n",
    "\t* <span style=\"font-family:Microsoft JhengHei;\">男生節點：違約機率0、不違約機率1</span>\n",
    "        <br>$ Entropy=-0 \\times log⁡0 - 1 \\times log⁡1 = 0 $</br>\n",
    "\n",
    "     <span style=\"font-family:Microsoft JhengHei;\">__將兩者加權後之$Entropy=0.2983 \\times \\frac{9}{10} + 0 \\times \\frac{1}{10}=0.2685$__</span>\n",
    "     \n",
    "     \n",
    "<span style=\"font-family:Microsoft JhengHei;\">經過計算，資料一用性別來分類後，Entropy下降100%，而資料二只下降了11%，因此資料一使用性別來分類之效果較資料二好，和直觀相同。</span>\n"
   ]
  },
  {
   "cell_type": "markdown",
   "metadata": {},
   "source": [
    "### <span style=\"font-family:Microsoft JhengHei;\">2. Gini Index (吉尼係數 , Impurity) -- CART(Classification and Regression Trees) </span>\n",
    "<span style=\"font-family:Microsoft JhengHei;font-size:16px;\">$$ H(X_m) = \\sum_{k}^{} p_{mk} (1-p_{mk}) $$</span>\n",
    "\n",
    "<span style=\"font-family:Microsoft JhengHei;\">吉尼係數為經濟學上代表財富分布狀態的係數，定義如下：</span>\n",
    "\n",
    "<img height=\"200\" alt=\"\" width=\"300\" src=\"http://kmfile.funddj.com/WikiFiles/206d3a06-e87d-4e87-b82d-7fbaf574895d/吉尼係數.gif\">\n",
    "\n",
    "<span style=\"font-family:Microsoft JhengHei;font-size:10px;\">資料來源：https://www.moneydj.com/kmdj/wiki/wikiviewer.aspx?keyid=454b04df-3a35-494c-ac90-4c3a2af9b995</span>\n",
    "\n",
    "<span style=\"font-family:Microsoft JhengHei;\">若應用於訊息理論則可解釋為訊息分布的集中度，當值越小表示資料為同一類之機率越大，因此吉尼係數越小越好。</span>"
   ]
  },
  {
   "cell_type": "markdown",
   "metadata": {},
   "source": [
    "<span style=\"font-family:Microsoft JhengHei;\">將兩資料用性別分類：</span>\n",
    " + <span style=\"font-family:Microsoft JhengHei;\">資料一：違約機率0.5、不違約機率0.5</span>\n",
    "      <br>$ Gini = -0.5 \\times (1 - ⁡0.5) - 0.5 \\times (1 - ⁡0.5) = 0.5 $</br>\n",
    "      \n",
    "   * <span style=\"font-family:Microsoft JhengHei;\">女生節點：違約機率0、不違約機率1</span>\n",
    "        <br>$ Gini = -0 \\times (1 - ⁡0) - 1 \\times (1 - ⁡1) = 0 $</br>\n",
    "        \n",
    "   * <span style=\"font-family:Microsoft JhengHei;\">男生節點：違約機率1、不違約機率0</span>\n",
    "        <br>$ Gini = -1 \\times (1 - ⁡1) - 0 \\times (1 - ⁡0) = 0 $</br>\n",
    "        \n",
    "    <span style=\"font-family:Microsoft JhengHei;\">__將兩者加權後之$ Gini = 0 \\times \\frac{5}{10} + 0 \\times \\frac{5}{10} = 0 $__</span>\n",
    "    \n",
    "    \n",
    " + <span style=\"font-family:Microsoft JhengHei;\">資料二：違約機率0.5、不違約機率0.5</span>\n",
    "      <br>$ Gini = -0.5 \\times (1 - ⁡0.5) - 0.5 \\times (1 - ⁡0.5) = 0.5 $</br>\n",
    "      \n",
    "\t* <span style=\"font-family:Microsoft JhengHei;\">女生節點：違約機率$ \\frac{4}{9}$、不違約機率$\\frac{5}{9} $</span>\n",
    "        <br>$ Gini =-\\frac{4}{9} \\times (1 - \\frac{4}{9}) - \\frac{5}{9} \\times (1 - \\frac{5}{9}) = 0.4938 $</br>\n",
    "        \n",
    "\t* <span style=\"font-family:Microsoft JhengHei;\">男生節點：違約機率0、不違約機率1</span>\n",
    "        <br>$ Gini = -0 \\times (1 - ⁡0) - 1 \\times (1 - ⁡1) = 0 $</br>\n",
    "\n",
    "     <span style=\"font-family:Microsoft JhengHei;\">__將兩者加權後之$ Gini = 0.4938 \\times \\frac{9}{10} + 0 \\times \\frac{1}{10} = 0.4444 $__</span>\n",
    "     \n",
    "     \n",
    "<span style=\"font-family:Microsoft JhengHei;\">經過計算，資料一用性別來分類後，Gini下降100%，而資料二也只下降了11%，因此資料一使用性別來分類之效果較資料二好，和直觀相同。</span>"
   ]
  },
  {
   "cell_type": "markdown",
   "metadata": {},
   "source": [
    "### <span style=\"font-family:Microsoft JhengHei;\">3. Misclassification (分組錯誤機率)</span>\n",
    "* <span style=\"font-family:Microsoft JhengHei;font-size:16px;\">鑑別(差別)性分組錯誤(differential misclassification) --> 分到每組的機率($P_{mk}$)相同</span>\n",
    "* <span style=\"font-family:Microsoft JhengHei;font-size:16px;\">非鑑別(差別)性分組錯誤(non-differential misclassification) --> 分到每組的機率($P_{mk}$)不同</span></br>\n",
    "\n",
    "<span style=\"font-family:Microsoft JhengHei;font-size:16px;\">$$ H(X_m) = 1 - max(p_{mk}) $$</span>\n",
    "\n",
    "<span style=\"font-family:Microsoft JhengHei;font-size:18px;\">從公式直接看可知，當同一類的機率越大，則分布越趨於同一類。</span>"
   ]
  },
  {
   "cell_type": "markdown",
   "metadata": {},
   "source": [
    "<span style=\"font-family:Microsoft JhengHei;\">將兩資料用性別分類：</span>\n",
    " + <span style=\"font-family:Microsoft JhengHei;\">資料一：違約機率0.5、不違約機率0.5</span>\n",
    "      <br>$ Misclassification = 1 - max(0.5 , 0.5) = 0.5 $</br>\n",
    "      \n",
    "   * <span style=\"font-family:Microsoft JhengHei;\">女生節點：違約機率0、不違約機率1</span>\n",
    "        <br>$ Misclassification = 1 - max(0 , 1) = 0 $</br>\n",
    "        \n",
    "   * <span style=\"font-family:Microsoft JhengHei;\">男生節點：違約機率1、不違約機率0</span>\n",
    "        <br>$ Misclassification = 1 - max(1 , 0) = 0 $</br>\n",
    "        \n",
    "    <span style=\"font-family:Microsoft JhengHei;\">__將兩者加權後之$ Misclassification = 0 \\times \\frac{5}{10} + 0 \\times \\frac{5}{10} = 0 $__</span>\n",
    "    \n",
    "    \n",
    " + <span style=\"font-family:Microsoft JhengHei;\">資料二：違約機率0.5、不違約機率0.5</span>\n",
    "      <br>$ Misclassification = 1 - max(0.5 , 0.5) = 0.5 $</br>\n",
    "      \n",
    "\t* <span style=\"font-family:Microsoft JhengHei;\">女生節點：違約機率$ \\frac{4}{9}$、不違約機率$\\frac{5}{9} $</span>\n",
    "        <br>$ Misclassification = 1 - max(\\frac{4}{9} , \\frac{5}{9}) = 0.4444 $</br>\n",
    "        \n",
    "\t* <span style=\"font-family:Microsoft JhengHei;\">男生節點：違約機率0、不違約機率1</span>\n",
    "        <br>$ Misclassification = 1 - max(0 , 1) = 0 $</br>\n",
    "\n",
    "     <span style=\"font-family:Microsoft JhengHei;\">__將兩者加權後之$ Misclassification = 0.4444 \\times \\frac{9}{10} + 0 \\times \\frac{1}{10} = 0.4 $__</span>\n",
    "     \n",
    "     \n",
    "<span style=\"font-family:Microsoft JhengHei;\">經過計算，資料一用性別來分類後，Misclassification下降100%，而資料二只下降了20%，因此資料一使用性別來分類之效果較資料二好，和直觀相同。</span>"
   ]
  },
  {
   "cell_type": "markdown",
   "metadata": {},
   "source": [
    "## <span style=\"font-family:Microsoft JhengHei;\">不同資料類型之處理</span>"
   ]
  },
  {
   "cell_type": "markdown",
   "metadata": {},
   "source": [
    "### <span style=\"font-family:Microsoft JhengHei;\">1. 名目資料 -- 性別</span>\n",
    "\n",
    "<img src=\"1.PNG\" style=\"float: left;\" height=\"100\" width=\"200\">"
   ]
  },
  {
   "cell_type": "markdown",
   "metadata": {},
   "source": [
    "### <span style=\"font-family:Microsoft JhengHei;\">2. 順序資料 -- 學歷</span>\n",
    "\n",
    "<img src=\"2.PNG\" style=\"float: left;\" height=\"650\" width=\"650\">"
   ]
  },
  {
   "cell_type": "markdown",
   "metadata": {},
   "source": [
    "### <span style=\"font-family:Microsoft JhengHei;\">3. 連續資料 -- 年齡</span>\n",
    "\n",
    "<img src=\"3.PNG\" style=\"float: left;\" height=\"500\" width=\"500\">"
   ]
  },
  {
   "cell_type": "markdown",
   "metadata": {},
   "source": [
    "### <span style=\"font-family:Microsoft JhengHei;\">停止分割節點條件：</span>\n",
    "\n",
    "<span style=\"font-family:Microsoft JhengHei;font-size:16px;\">1. 分割出的葉節點皆為同一類型即停止(缺點：容易overfitting)。</span>\n",
    "\n",
    "<span style=\"font-family:Microsoft JhengHei;font-size:16px;\"><span style=\"font-family:Microsoft JhengHei;font-size:16px;\">2. 當分割出的資料樣本數小於某值即停止。</span>\n",
    "\n",
    "<span style=\"font-family:Microsoft JhengHei;font-size:16px;\">3. 設定Impurity小於某數即停止。</span>"
   ]
  },
  {
   "cell_type": "markdown",
   "metadata": {},
   "source": [
    "## <span style=\"font-family:Microsoft JhengHei;\">層數與overfitting</span>\n",
    "\n",
    "<img src=\"4.PNG\" height=\"500\" width=\"500\">\n",
    "\n",
    "<span style=\"font-family:Microsoft JhengHei;font-size:10px;\">資料來源：https://scikit-learn.org/stable/modules/tree.html</span>"
   ]
  },
  {
   "cell_type": "markdown",
   "metadata": {},
   "source": [
    "## [Scikit-Learn] [DecisionTreeClassifier](https://scikit-learn.org/stable/modules/generated/sklearn.tree.DecisionTreeClassifier.html#sklearn.tree.DecisionTreeClassifier)"
   ]
  },
  {
   "cell_type": "code",
   "execution_count": 1,
   "metadata": {},
   "outputs": [
    {
     "data": {
      "text/plain": [
       "{'ccp_alpha': 0.0,\n",
       " 'class_weight': None,\n",
       " 'criterion': 'gini',\n",
       " 'max_depth': None,\n",
       " 'max_features': None,\n",
       " 'max_leaf_nodes': None,\n",
       " 'min_impurity_decrease': 0.0,\n",
       " 'min_impurity_split': None,\n",
       " 'min_samples_leaf': 1,\n",
       " 'min_samples_split': 2,\n",
       " 'min_weight_fraction_leaf': 0.0,\n",
       " 'presort': 'deprecated',\n",
       " 'random_state': None,\n",
       " 'splitter': 'best'}"
      ]
     },
     "execution_count": 1,
     "metadata": {},
     "output_type": "execute_result"
    }
   ],
   "source": [
    "from sklearn.tree import DecisionTreeClassifier\n",
    "DecisionTreeClassifier().get_params()"
   ]
  },
  {
   "cell_type": "markdown",
   "metadata": {},
   "source": [
    "* <span style=\"font-family:Microsoft JhengHei;font-size:16px;\">class_weight 設定權重</span>\n",
    "* <span style=\"font-family:Microsoft JhengHei;font-size:16px;\">criterion 設定屬性選擇指標 {'gini' , 'entropy'}</span>\n",
    "* <span style=\"font-family:Microsoft JhengHei;font-size:16px;\">max_depth 設定最大層數 {int}</span>\n",
    "* <span style=\"font-family:Microsoft JhengHei;font-size:16px;\">max_features 設定最大特徵數 {int , float , auto , sqrt , log2 , None}</span>\n",
    "* <span style=\"font-family:Microsoft JhengHei;font-size:16px;\">max_leaf_nodes 設定最大葉節點數 {int , None}</span>\n",
    "* <span style=\"font-family:Microsoft JhengHei;font-size:16px;\">min_impurity_decrease 若impurity低於此值則分割 {float}</span>\n",
    "* <span style=\"font-family:Microsoft JhengHei;font-size:16px;\">min_impurity_split 設定最小impurity值 {float}</span>\n",
    "* <span style=\"font-family:Microsoft JhengHei;font-size:16px;\">min_samples_leaf 設定葉節點最小樣本數 {int , float}</span>\n",
    "* <span style=\"font-family:Microsoft JhengHei;font-size:16px;\">min_samples_split 設定分割最小樣本數 {int , float}</span>\n",
    "* <span style=\"font-family:Microsoft JhengHei;font-size:16px;\">min_weight_fraction_leaf 設定葉節點最低權重</span>\n",
    "* <span style=\"font-family:Microsoft JhengHei;font-size:16px;\">presort 是否重新排序可更快找到最佳分割點 {'True' , 'False'}</span>\n",
    "* <span style=\"font-family:Microsoft JhengHei;font-size:16px;\">random_state 設定亂數種子</span>\n",
    "* <span style=\"font-family:Microsoft JhengHei;font-size:16px;\">splitter 設定分割方法 {'best' , 'random'}</span>"
   ]
  },
  {
   "cell_type": "code",
   "execution_count": 2,
   "metadata": {},
   "outputs": [],
   "source": [
    "import sklearn\n",
    "from sklearn.datasets import load_iris\n",
    "from sklearn.model_selection import train_test_split\n",
    "from sklearn import tree\n",
    "from sklearn.tree import DecisionTreeClassifier\n",
    "from sklearn.preprocessing import MinMaxScaler, StandardScaler\n",
    "from sklearn.model_selection import KFold\n",
    "from sklearn.model_selection import GridSearchCV\n",
    "from sklearn.pipeline import Pipeline\n",
    "import pandas as pd\n",
    "import numpy as np\n",
    "\n",
    "np.random.seed(123)"
   ]
  },
  {
   "cell_type": "code",
   "execution_count": 3,
   "metadata": {},
   "outputs": [
    {
     "data": {
      "text/html": [
       "<div>\n",
       "<style scoped>\n",
       "    .dataframe tbody tr th:only-of-type {\n",
       "        vertical-align: middle;\n",
       "    }\n",
       "\n",
       "    .dataframe tbody tr th {\n",
       "        vertical-align: top;\n",
       "    }\n",
       "\n",
       "    .dataframe thead th {\n",
       "        text-align: right;\n",
       "    }\n",
       "</style>\n",
       "<table border=\"1\" class=\"dataframe\">\n",
       "  <thead>\n",
       "    <tr style=\"text-align: right;\">\n",
       "      <th></th>\n",
       "      <th>sepal length (cm)</th>\n",
       "      <th>sepal width (cm)</th>\n",
       "      <th>petal length (cm)</th>\n",
       "      <th>petal width (cm)</th>\n",
       "      <th>species</th>\n",
       "    </tr>\n",
       "  </thead>\n",
       "  <tbody>\n",
       "    <tr>\n",
       "      <th>0</th>\n",
       "      <td>5.1</td>\n",
       "      <td>3.5</td>\n",
       "      <td>1.4</td>\n",
       "      <td>0.2</td>\n",
       "      <td>0</td>\n",
       "    </tr>\n",
       "    <tr>\n",
       "      <th>1</th>\n",
       "      <td>4.9</td>\n",
       "      <td>3.0</td>\n",
       "      <td>1.4</td>\n",
       "      <td>0.2</td>\n",
       "      <td>0</td>\n",
       "    </tr>\n",
       "    <tr>\n",
       "      <th>2</th>\n",
       "      <td>4.7</td>\n",
       "      <td>3.2</td>\n",
       "      <td>1.3</td>\n",
       "      <td>0.2</td>\n",
       "      <td>0</td>\n",
       "    </tr>\n",
       "    <tr>\n",
       "      <th>3</th>\n",
       "      <td>4.6</td>\n",
       "      <td>3.1</td>\n",
       "      <td>1.5</td>\n",
       "      <td>0.2</td>\n",
       "      <td>0</td>\n",
       "    </tr>\n",
       "    <tr>\n",
       "      <th>4</th>\n",
       "      <td>5.0</td>\n",
       "      <td>3.6</td>\n",
       "      <td>1.4</td>\n",
       "      <td>0.2</td>\n",
       "      <td>0</td>\n",
       "    </tr>\n",
       "  </tbody>\n",
       "</table>\n",
       "</div>"
      ],
      "text/plain": [
       "   sepal length (cm)  sepal width (cm)  petal length (cm)  petal width (cm)  \\\n",
       "0                5.1               3.5                1.4               0.2   \n",
       "1                4.9               3.0                1.4               0.2   \n",
       "2                4.7               3.2                1.3               0.2   \n",
       "3                4.6               3.1                1.5               0.2   \n",
       "4                5.0               3.6                1.4               0.2   \n",
       "\n",
       "   species  \n",
       "0        0  \n",
       "1        0  \n",
       "2        0  \n",
       "3        0  \n",
       "4        0  "
      ]
     },
     "execution_count": 3,
     "metadata": {},
     "output_type": "execute_result"
    }
   ],
   "source": [
    "data = load_iris()\n",
    "\n",
    "target = 'species'\n",
    "\n",
    "database = pd.DataFrame(data.data , columns = list(data.feature_names))\n",
    "\n",
    "database[target] = data.target\n",
    "\n",
    "database.head()"
   ]
  },
  {
   "cell_type": "code",
   "execution_count": 4,
   "metadata": {},
   "outputs": [
    {
     "data": {
      "text/plain": [
       "DecisionTreeClassifier(ccp_alpha=0.0, class_weight=None, criterion='gini',\n",
       "                       max_depth=3, max_features=None, max_leaf_nodes=None,\n",
       "                       min_impurity_decrease=0.0, min_impurity_split=None,\n",
       "                       min_samples_leaf=1, min_samples_split=2,\n",
       "                       min_weight_fraction_leaf=0.0, presort='deprecated',\n",
       "                       random_state=None, splitter='best')"
      ]
     },
     "execution_count": 4,
     "metadata": {},
     "output_type": "execute_result"
    }
   ],
   "source": [
    "X = database.drop(target , axis = 1)\n",
    "y = database[target]\n",
    "\n",
    "test_size = 0.2\n",
    "X_train, X_test, y_train, y_test = train_test_split(X , y , test_size = test_size)\n",
    "\n",
    "# decision tree\n",
    "model = DecisionTreeClassifier(max_depth = 3)\n",
    "model.fit(X_train, y_train)"
   ]
  },
  {
   "cell_type": "markdown",
   "metadata": {},
   "source": [
    "## <span style=\"font-family:Microsoft JhengHei;\">畫出決策樹</span>"
   ]
  },
  {
   "cell_type": "markdown",
   "metadata": {},
   "source": [
    "<span style=\"font-family:Microsoft JhengHei;font-size:16px;\">使用 [`graphviz`](https://www.graphviz.org/) 套件：conda install python-graphviz</span>"
   ]
  },
  {
   "cell_type": "code",
   "execution_count": 6,
   "metadata": {},
   "outputs": [
    {
     "data": {
      "image/svg+xml": [
       "<?xml version=\"1.0\" encoding=\"UTF-8\" standalone=\"no\"?>\n",
       "<!DOCTYPE svg PUBLIC \"-//W3C//DTD SVG 1.1//EN\"\n",
       " \"http://www.w3.org/Graphics/SVG/1.1/DTD/svg11.dtd\">\n",
       "<!-- Generated by graphviz version 2.40.1 (20161225.0304)\n",
       " -->\n",
       "<!-- Title: Tree Pages: 1 -->\n",
       "<svg width=\"567pt\" height=\"433pt\"\n",
       " viewBox=\"0.00 0.00 567.00 433.00\" xmlns=\"http://www.w3.org/2000/svg\" xmlns:xlink=\"http://www.w3.org/1999/xlink\">\n",
       "<g id=\"graph0\" class=\"graph\" transform=\"scale(1 1) rotate(0) translate(4 429)\">\n",
       "<title>Tree</title>\n",
       "<polygon fill=\"#ffffff\" stroke=\"transparent\" points=\"-4,4 -4,-429 563,-429 563,4 -4,4\"/>\n",
       "<!-- 0 -->\n",
       "<g id=\"node1\" class=\"node\">\n",
       "<title>0</title>\n",
       "<path fill=\"#f3fdf7\" stroke=\"#000000\" d=\"M264,-425C264,-425 138,-425 138,-425 132,-425 126,-419 126,-413 126,-413 126,-354 126,-354 126,-348 132,-342 138,-342 138,-342 264,-342 264,-342 270,-342 276,-348 276,-354 276,-354 276,-413 276,-413 276,-419 270,-425 264,-425\"/>\n",
       "<text text-anchor=\"start\" x=\"134\" y=\"-409.8\" font-family=\"Helvetica,sans-Serif\" font-size=\"14.00\" fill=\"#000000\">petal width (cm) ≤ 0.8</text>\n",
       "<text text-anchor=\"start\" x=\"164.5\" y=\"-394.8\" font-family=\"Helvetica,sans-Serif\" font-size=\"14.00\" fill=\"#000000\">gini = 0.665</text>\n",
       "<text text-anchor=\"start\" x=\"155\" y=\"-379.8\" font-family=\"Helvetica,sans-Serif\" font-size=\"14.00\" fill=\"#000000\">samples = 120</text>\n",
       "<text text-anchor=\"start\" x=\"141\" y=\"-364.8\" font-family=\"Helvetica,sans-Serif\" font-size=\"14.00\" fill=\"#000000\">value = [37, 44, 39]</text>\n",
       "<text text-anchor=\"start\" x=\"147\" y=\"-349.8\" font-family=\"Helvetica,sans-Serif\" font-size=\"14.00\" fill=\"#000000\">class = versicolor</text>\n",
       "</g>\n",
       "<!-- 1 -->\n",
       "<g id=\"node2\" class=\"node\">\n",
       "<title>1</title>\n",
       "<path fill=\"#e58139\" stroke=\"#000000\" d=\"M171,-298.5C171,-298.5 75,-298.5 75,-298.5 69,-298.5 63,-292.5 63,-286.5 63,-286.5 63,-242.5 63,-242.5 63,-236.5 69,-230.5 75,-230.5 75,-230.5 171,-230.5 171,-230.5 177,-230.5 183,-236.5 183,-242.5 183,-242.5 183,-286.5 183,-286.5 183,-292.5 177,-298.5 171,-298.5\"/>\n",
       "<text text-anchor=\"start\" x=\"94\" y=\"-283.3\" font-family=\"Helvetica,sans-Serif\" font-size=\"14.00\" fill=\"#000000\">gini = 0.0</text>\n",
       "<text text-anchor=\"start\" x=\"81\" y=\"-268.3\" font-family=\"Helvetica,sans-Serif\" font-size=\"14.00\" fill=\"#000000\">samples = 37</text>\n",
       "<text text-anchor=\"start\" x=\"71\" y=\"-253.3\" font-family=\"Helvetica,sans-Serif\" font-size=\"14.00\" fill=\"#000000\">value = [37, 0, 0]</text>\n",
       "<text text-anchor=\"start\" x=\"78\" y=\"-238.3\" font-family=\"Helvetica,sans-Serif\" font-size=\"14.00\" fill=\"#000000\">class = setosa</text>\n",
       "</g>\n",
       "<!-- 0&#45;&gt;1 -->\n",
       "<g id=\"edge1\" class=\"edge\">\n",
       "<title>0&#45;&gt;1</title>\n",
       "<path fill=\"none\" stroke=\"#000000\" d=\"M173.7194,-341.8796C166.3677,-330.6636 158.4036,-318.5131 151.0126,-307.2372\"/>\n",
       "<polygon fill=\"#000000\" stroke=\"#000000\" points=\"153.9014,-305.2598 145.4921,-298.8149 148.0469,-309.0972 153.9014,-305.2598\"/>\n",
       "<text text-anchor=\"middle\" x=\"140.3982\" y=\"-319.5905\" font-family=\"Helvetica,sans-Serif\" font-size=\"14.00\" fill=\"#000000\">True</text>\n",
       "</g>\n",
       "<!-- 2 -->\n",
       "<g id=\"node3\" class=\"node\">\n",
       "<title>2</title>\n",
       "<path fill=\"#e8fcf1\" stroke=\"#000000\" d=\"M347,-306C347,-306 213,-306 213,-306 207,-306 201,-300 201,-294 201,-294 201,-235 201,-235 201,-229 207,-223 213,-223 213,-223 347,-223 347,-223 353,-223 359,-229 359,-235 359,-235 359,-294 359,-294 359,-300 353,-306 347,-306\"/>\n",
       "<text text-anchor=\"start\" x=\"209\" y=\"-290.8\" font-family=\"Helvetica,sans-Serif\" font-size=\"14.00\" fill=\"#000000\">petal width (cm) ≤ 1.75</text>\n",
       "<text text-anchor=\"start\" x=\"243.5\" y=\"-275.8\" font-family=\"Helvetica,sans-Serif\" font-size=\"14.00\" fill=\"#000000\">gini = 0.498</text>\n",
       "<text text-anchor=\"start\" x=\"238\" y=\"-260.8\" font-family=\"Helvetica,sans-Serif\" font-size=\"14.00\" fill=\"#000000\">samples = 83</text>\n",
       "<text text-anchor=\"start\" x=\"224\" y=\"-245.8\" font-family=\"Helvetica,sans-Serif\" font-size=\"14.00\" fill=\"#000000\">value = [0, 44, 39]</text>\n",
       "<text text-anchor=\"start\" x=\"226\" y=\"-230.8\" font-family=\"Helvetica,sans-Serif\" font-size=\"14.00\" fill=\"#000000\">class = versicolor</text>\n",
       "</g>\n",
       "<!-- 0&#45;&gt;2 -->\n",
       "<g id=\"edge2\" class=\"edge\">\n",
       "<title>0&#45;&gt;2</title>\n",
       "<path fill=\"none\" stroke=\"#000000\" d=\"M228.6304,-341.8796C234.43,-333.1434 240.6059,-323.8404 246.5908,-314.8253\"/>\n",
       "<polygon fill=\"#000000\" stroke=\"#000000\" points=\"249.6368,-316.5652 252.2517,-306.2981 243.8049,-312.6935 249.6368,-316.5652\"/>\n",
       "<text text-anchor=\"middle\" x=\"257.2022\" y=\"-327.103\" font-family=\"Helvetica,sans-Serif\" font-size=\"14.00\" fill=\"#000000\">False</text>\n",
       "</g>\n",
       "<!-- 3 -->\n",
       "<g id=\"node4\" class=\"node\">\n",
       "<title>3</title>\n",
       "<path fill=\"#4be78d\" stroke=\"#000000\" d=\"M258.5,-187C258.5,-187 119.5,-187 119.5,-187 113.5,-187 107.5,-181 107.5,-175 107.5,-175 107.5,-116 107.5,-116 107.5,-110 113.5,-104 119.5,-104 119.5,-104 258.5,-104 258.5,-104 264.5,-104 270.5,-110 270.5,-116 270.5,-116 270.5,-175 270.5,-175 270.5,-181 264.5,-187 258.5,-187\"/>\n",
       "<text text-anchor=\"start\" x=\"115.5\" y=\"-171.8\" font-family=\"Helvetica,sans-Serif\" font-size=\"14.00\" fill=\"#000000\">petal length (cm) ≤ 5.35</text>\n",
       "<text text-anchor=\"start\" x=\"152.5\" y=\"-156.8\" font-family=\"Helvetica,sans-Serif\" font-size=\"14.00\" fill=\"#000000\">gini = 0.156</text>\n",
       "<text text-anchor=\"start\" x=\"147\" y=\"-141.8\" font-family=\"Helvetica,sans-Serif\" font-size=\"14.00\" fill=\"#000000\">samples = 47</text>\n",
       "<text text-anchor=\"start\" x=\"137\" y=\"-126.8\" font-family=\"Helvetica,sans-Serif\" font-size=\"14.00\" fill=\"#000000\">value = [0, 43, 4]</text>\n",
       "<text text-anchor=\"start\" x=\"135\" y=\"-111.8\" font-family=\"Helvetica,sans-Serif\" font-size=\"14.00\" fill=\"#000000\">class = versicolor</text>\n",
       "</g>\n",
       "<!-- 2&#45;&gt;3 -->\n",
       "<g id=\"edge3\" class=\"edge\">\n",
       "<title>2&#45;&gt;3</title>\n",
       "<path fill=\"none\" stroke=\"#000000\" d=\"M248.1726,-222.8796C241.3543,-213.9633 234.0844,-204.4565 227.0579,-195.268\"/>\n",
       "<polygon fill=\"#000000\" stroke=\"#000000\" points=\"229.818,-193.1156 220.9632,-187.2981 224.2575,-197.3678 229.818,-193.1156\"/>\n",
       "</g>\n",
       "<!-- 6 -->\n",
       "<g id=\"node7\" class=\"node\">\n",
       "<title>6</title>\n",
       "<path fill=\"#853fe6\" stroke=\"#000000\" d=\"M439.5,-187C439.5,-187 300.5,-187 300.5,-187 294.5,-187 288.5,-181 288.5,-175 288.5,-175 288.5,-116 288.5,-116 288.5,-110 294.5,-104 300.5,-104 300.5,-104 439.5,-104 439.5,-104 445.5,-104 451.5,-110 451.5,-116 451.5,-116 451.5,-175 451.5,-175 451.5,-181 445.5,-187 439.5,-187\"/>\n",
       "<text text-anchor=\"start\" x=\"296.5\" y=\"-171.8\" font-family=\"Helvetica,sans-Serif\" font-size=\"14.00\" fill=\"#000000\">petal length (cm) ≤ 4.85</text>\n",
       "<text text-anchor=\"start\" x=\"333.5\" y=\"-156.8\" font-family=\"Helvetica,sans-Serif\" font-size=\"14.00\" fill=\"#000000\">gini = 0.054</text>\n",
       "<text text-anchor=\"start\" x=\"328\" y=\"-141.8\" font-family=\"Helvetica,sans-Serif\" font-size=\"14.00\" fill=\"#000000\">samples = 36</text>\n",
       "<text text-anchor=\"start\" x=\"318\" y=\"-126.8\" font-family=\"Helvetica,sans-Serif\" font-size=\"14.00\" fill=\"#000000\">value = [0, 1, 35]</text>\n",
       "<text text-anchor=\"start\" x=\"320\" y=\"-111.8\" font-family=\"Helvetica,sans-Serif\" font-size=\"14.00\" fill=\"#000000\">class = virginica</text>\n",
       "</g>\n",
       "<!-- 2&#45;&gt;6 -->\n",
       "<g id=\"edge6\" class=\"edge\">\n",
       "<title>2&#45;&gt;6</title>\n",
       "<path fill=\"none\" stroke=\"#000000\" d=\"M311.4776,-222.8796C318.1529,-214.0534 325.2658,-204.6485 332.1496,-195.5466\"/>\n",
       "<polygon fill=\"#000000\" stroke=\"#000000\" points=\"335.1474,-197.3852 338.388,-187.2981 329.5643,-193.1626 335.1474,-197.3852\"/>\n",
       "</g>\n",
       "<!-- 4 -->\n",
       "<g id=\"node5\" class=\"node\">\n",
       "<title>4</title>\n",
       "<path fill=\"#42e687\" stroke=\"#000000\" d=\"M112,-68C112,-68 12,-68 12,-68 6,-68 0,-62 0,-56 0,-56 0,-12 0,-12 0,-6 6,0 12,0 12,0 112,0 112,0 118,0 124,-6 124,-12 124,-12 124,-56 124,-56 124,-62 118,-68 112,-68\"/>\n",
       "<text text-anchor=\"start\" x=\"25.5\" y=\"-52.8\" font-family=\"Helvetica,sans-Serif\" font-size=\"14.00\" fill=\"#000000\">gini = 0.085</text>\n",
       "<text text-anchor=\"start\" x=\"20\" y=\"-37.8\" font-family=\"Helvetica,sans-Serif\" font-size=\"14.00\" fill=\"#000000\">samples = 45</text>\n",
       "<text text-anchor=\"start\" x=\"10\" y=\"-22.8\" font-family=\"Helvetica,sans-Serif\" font-size=\"14.00\" fill=\"#000000\">value = [0, 43, 2]</text>\n",
       "<text text-anchor=\"start\" x=\"8\" y=\"-7.8\" font-family=\"Helvetica,sans-Serif\" font-size=\"14.00\" fill=\"#000000\">class = versicolor</text>\n",
       "</g>\n",
       "<!-- 3&#45;&gt;4 -->\n",
       "<g id=\"edge4\" class=\"edge\">\n",
       "<title>3&#45;&gt;4</title>\n",
       "<path fill=\"none\" stroke=\"#000000\" d=\"M141.7099,-103.9815C130.9275,-94.5151 119.477,-84.462 108.7187,-75.0168\"/>\n",
       "<polygon fill=\"#000000\" stroke=\"#000000\" points=\"110.8507,-72.2311 101.0268,-68.2637 106.2324,-77.4915 110.8507,-72.2311\"/>\n",
       "</g>\n",
       "<!-- 5 -->\n",
       "<g id=\"node6\" class=\"node\">\n",
       "<title>5</title>\n",
       "<path fill=\"#8139e5\" stroke=\"#000000\" d=\"M246,-68C246,-68 154,-68 154,-68 148,-68 142,-62 142,-56 142,-56 142,-12 142,-12 142,-6 148,0 154,0 154,0 246,0 246,0 252,0 258,-6 258,-12 258,-12 258,-56 258,-56 258,-62 252,-68 246,-68\"/>\n",
       "<text text-anchor=\"start\" x=\"171\" y=\"-52.8\" font-family=\"Helvetica,sans-Serif\" font-size=\"14.00\" fill=\"#000000\">gini = 0.0</text>\n",
       "<text text-anchor=\"start\" x=\"162\" y=\"-37.8\" font-family=\"Helvetica,sans-Serif\" font-size=\"14.00\" fill=\"#000000\">samples = 2</text>\n",
       "<text text-anchor=\"start\" x=\"151.5\" y=\"-22.8\" font-family=\"Helvetica,sans-Serif\" font-size=\"14.00\" fill=\"#000000\">value = [0, 0, 2]</text>\n",
       "<text text-anchor=\"start\" x=\"150\" y=\"-7.8\" font-family=\"Helvetica,sans-Serif\" font-size=\"14.00\" fill=\"#000000\">class = virginica</text>\n",
       "</g>\n",
       "<!-- 3&#45;&gt;5 -->\n",
       "<g id=\"edge5\" class=\"edge\">\n",
       "<title>3&#45;&gt;5</title>\n",
       "<path fill=\"none\" stroke=\"#000000\" d=\"M193.096,-103.9815C193.9211,-95.618 194.7914,-86.7965 195.6256,-78.3409\"/>\n",
       "<polygon fill=\"#000000\" stroke=\"#000000\" points=\"199.1209,-78.559 196.6197,-68.2637 192.1548,-77.8717 199.1209,-78.559\"/>\n",
       "</g>\n",
       "<!-- 7 -->\n",
       "<g id=\"node8\" class=\"node\">\n",
       "<title>7</title>\n",
       "<path fill=\"#ffffff\" stroke=\"#000000\" d=\"M409,-68C409,-68 309,-68 309,-68 303,-68 297,-62 297,-56 297,-56 297,-12 297,-12 297,-6 303,0 309,0 309,0 409,0 409,0 415,0 421,-6 421,-12 421,-12 421,-56 421,-56 421,-62 415,-68 409,-68\"/>\n",
       "<text text-anchor=\"start\" x=\"330\" y=\"-52.8\" font-family=\"Helvetica,sans-Serif\" font-size=\"14.00\" fill=\"#000000\">gini = 0.5</text>\n",
       "<text text-anchor=\"start\" x=\"321\" y=\"-37.8\" font-family=\"Helvetica,sans-Serif\" font-size=\"14.00\" fill=\"#000000\">samples = 2</text>\n",
       "<text text-anchor=\"start\" x=\"310.5\" y=\"-22.8\" font-family=\"Helvetica,sans-Serif\" font-size=\"14.00\" fill=\"#000000\">value = [0, 1, 1]</text>\n",
       "<text text-anchor=\"start\" x=\"305\" y=\"-7.8\" font-family=\"Helvetica,sans-Serif\" font-size=\"14.00\" fill=\"#000000\">class = versicolor</text>\n",
       "</g>\n",
       "<!-- 6&#45;&gt;7 -->\n",
       "<g id=\"edge7\" class=\"edge\">\n",
       "<title>6&#45;&gt;7</title>\n",
       "<path fill=\"none\" stroke=\"#000000\" d=\"M365.904,-103.9815C365.0789,-95.618 364.2086,-86.7965 363.3744,-78.3409\"/>\n",
       "<polygon fill=\"#000000\" stroke=\"#000000\" points=\"366.8452,-77.8717 362.3803,-68.2637 359.8791,-78.559 366.8452,-77.8717\"/>\n",
       "</g>\n",
       "<!-- 8 -->\n",
       "<g id=\"node9\" class=\"node\">\n",
       "<title>8</title>\n",
       "<path fill=\"#8139e5\" stroke=\"#000000\" d=\"M547,-68C547,-68 451,-68 451,-68 445,-68 439,-62 439,-56 439,-56 439,-12 439,-12 439,-6 445,0 451,0 451,0 547,0 547,0 553,0 559,-6 559,-12 559,-12 559,-56 559,-56 559,-62 553,-68 547,-68\"/>\n",
       "<text text-anchor=\"start\" x=\"470\" y=\"-52.8\" font-family=\"Helvetica,sans-Serif\" font-size=\"14.00\" fill=\"#000000\">gini = 0.0</text>\n",
       "<text text-anchor=\"start\" x=\"457\" y=\"-37.8\" font-family=\"Helvetica,sans-Serif\" font-size=\"14.00\" fill=\"#000000\">samples = 34</text>\n",
       "<text text-anchor=\"start\" x=\"447\" y=\"-22.8\" font-family=\"Helvetica,sans-Serif\" font-size=\"14.00\" fill=\"#000000\">value = [0, 0, 34]</text>\n",
       "<text text-anchor=\"start\" x=\"449\" y=\"-7.8\" font-family=\"Helvetica,sans-Serif\" font-size=\"14.00\" fill=\"#000000\">class = virginica</text>\n",
       "</g>\n",
       "<!-- 6&#45;&gt;8 -->\n",
       "<g id=\"edge8\" class=\"edge\">\n",
       "<title>6&#45;&gt;8</title>\n",
       "<path fill=\"none\" stroke=\"#000000\" d=\"M418.0348,-103.9815C428.987,-94.5151 440.6179,-84.462 451.5456,-75.0168\"/>\n",
       "<polygon fill=\"#000000\" stroke=\"#000000\" points=\"454.0818,-77.4509 459.3586,-68.2637 449.5043,-72.155 454.0818,-77.4509\"/>\n",
       "</g>\n",
       "</g>\n",
       "</svg>\n"
      ],
      "text/plain": [
       "<graphviz.files.Source at 0x1a237f6f50>"
      ]
     },
     "execution_count": 6,
     "metadata": {},
     "output_type": "execute_result"
    }
   ],
   "source": [
    "import graphviz\n",
    "\n",
    "treeplot = tree.export_graphviz(model , out_file = None, \n",
    "                          feature_names = data.feature_names,  \n",
    "                          class_names = data.target_names,  \n",
    "                          filled = True, rounded = True,  \n",
    "                          special_characters = True)\n",
    "\n",
    "graph = graphviz.Source(treeplot)\n",
    "graph"
   ]
  },
  {
   "cell_type": "markdown",
   "metadata": {},
   "source": [
    "### Attributes"
   ]
  },
  {
   "cell_type": "code",
   "execution_count": 7,
   "metadata": {
    "scrolled": true
   },
   "outputs": [
    {
     "data": {
      "text/plain": [
       "array([0.      , 0.      , 0.059249, 0.940751])"
      ]
     },
     "execution_count": 7,
     "metadata": {},
     "output_type": "execute_result"
    }
   ],
   "source": [
    "model.feature_importances_"
   ]
  },
  {
   "cell_type": "code",
   "execution_count": 8,
   "metadata": {},
   "outputs": [
    {
     "data": {
      "text/plain": [
       "9"
      ]
     },
     "execution_count": 8,
     "metadata": {},
     "output_type": "execute_result"
    }
   ],
   "source": [
    "n_nodes = model.tree_.node_count\n",
    "n_nodes"
   ]
  },
  {
   "cell_type": "code",
   "execution_count": 9,
   "metadata": {},
   "outputs": [
    {
     "data": {
      "text/plain": [
       "array([ 0.80000001, -2.        ,  1.75      ,  5.3499999 , -2.        ,\n",
       "       -2.        ,  4.85000014, -2.        , -2.        ])"
      ]
     },
     "execution_count": 9,
     "metadata": {},
     "output_type": "execute_result"
    }
   ],
   "source": [
    "threshold = model.tree_.threshold\n",
    "threshold"
   ]
  },
  {
   "cell_type": "code",
   "execution_count": 10,
   "metadata": {},
   "outputs": [
    {
     "data": {
      "text/plain": [
       "<sklearn.tree._tree.Tree at 0x1a238019d0>"
      ]
     },
     "execution_count": 10,
     "metadata": {},
     "output_type": "execute_result"
    }
   ],
   "source": [
    "model.tree_"
   ]
  },
  {
   "cell_type": "markdown",
   "metadata": {},
   "source": [
    "### <span style=\"font-family:Microsoft JhengHei;\">抓出每個node的條件</span>"
   ]
  },
  {
   "cell_type": "code",
   "execution_count": 11,
   "metadata": {},
   "outputs": [
    {
     "data": {
      "text/plain": [
       "array([ 3, -2,  3,  2, -2, -2,  2, -2, -2])"
      ]
     },
     "execution_count": 11,
     "metadata": {},
     "output_type": "execute_result"
    }
   ],
   "source": [
    "model.tree_.feature"
   ]
  },
  {
   "cell_type": "code",
   "execution_count": 12,
   "metadata": {},
   "outputs": [
    {
     "data": {
      "text/plain": [
       "['sepal length (cm)',\n",
       " 'sepal width (cm)',\n",
       " 'petal length (cm)',\n",
       " 'petal width (cm)']"
      ]
     },
     "execution_count": 12,
     "metadata": {},
     "output_type": "execute_result"
    }
   ],
   "source": [
    "data.feature_names"
   ]
  },
  {
   "cell_type": "code",
   "execution_count": 13,
   "metadata": {},
   "outputs": [
    {
     "data": {
      "text/plain": [
       "array(['setosa', 'versicolor', 'virginica'], dtype='<U10')"
      ]
     },
     "execution_count": 13,
     "metadata": {},
     "output_type": "execute_result"
    }
   ],
   "source": [
    "data.target_names"
   ]
  },
  {
   "cell_type": "code",
   "execution_count": 14,
   "metadata": {},
   "outputs": [
    {
     "name": "stdout",
     "output_type": "stream",
     "text": [
      "node 0 condition: petal width (cm) <= 0.800000011920929\n",
      "node 2 condition: petal width (cm) <= 1.75\n",
      "node 3 condition: petal length (cm) <= 5.349999904632568\n",
      "node 6 condition: petal length (cm) <= 4.8500001430511475\n"
     ]
    }
   ],
   "source": [
    "for index , item in enumerate(model.tree_.feature):\n",
    "    if item != -2:\n",
    "        print('node' , index , 'condition:' , data.feature_names[model.tree_.feature[index]] ,'<=' , threshold[index])"
   ]
  },
  {
   "cell_type": "markdown",
   "metadata": {},
   "source": [
    "### <span style=\"font-family:Microsoft JhengHei;\">查看決策的路徑</span>"
   ]
  },
  {
   "cell_type": "code",
   "execution_count": 15,
   "metadata": {},
   "outputs": [
    {
     "data": {
      "text/plain": [
       "<30x9 sparse matrix of type '<class 'numpy.int64'>'\n",
       "\twith 94 stored elements in Compressed Sparse Row format>"
      ]
     },
     "execution_count": 15,
     "metadata": {},
     "output_type": "execute_result"
    }
   ],
   "source": [
    "node_indicator = model.decision_path(X_test)\n",
    "node_indicator"
   ]
  },
  {
   "cell_type": "markdown",
   "metadata": {},
   "source": [
    "[Compressed Sparse Row format](https://docs.scipy.org/doc/scipy/reference/generated/scipy.sparse.csr_matrix.html)"
   ]
  },
  {
   "cell_type": "code",
   "execution_count": 16,
   "metadata": {},
   "outputs": [
    {
     "data": {
      "text/plain": [
       "matrix([[1, 0, 1, 1, 1, 0, 0, 0, 0]])"
      ]
     },
     "execution_count": 16,
     "metadata": {},
     "output_type": "execute_result"
    }
   ],
   "source": [
    "node_indicator.todense()[0]"
   ]
  },
  {
   "cell_type": "code",
   "execution_count": 17,
   "metadata": {},
   "outputs": [],
   "source": [
    "from sklearn.tree import _tree\n",
    "\n",
    "def tree_to_code(tree, feature_names):\n",
    "    tree_ = tree.tree_\n",
    "    feature_name = [\n",
    "        feature_names[i] if i != _tree.TREE_UNDEFINED else \"undefined!\"\n",
    "        for i in tree_.feature\n",
    "    ]\n",
    "    print (\"def tree({}):\".format(\", \".join(feature_names)))\n",
    "\n",
    "    def recurse(node, depth):\n",
    "        indent = \"  \" * depth\n",
    "        if tree_.feature[node] != _tree.TREE_UNDEFINED:\n",
    "            name = feature_name[node]\n",
    "            threshold = tree_.threshold[node]\n",
    "            print (\"{}if {} <= {}:\".format(indent, name, threshold))\n",
    "            recurse(tree_.children_left[node], depth + 1)\n",
    "            print (\"{}else:  # if {} > {}\".format(indent, name, threshold))\n",
    "            recurse(tree_.children_right[node], depth + 1)\n",
    "        else:\n",
    "            print (\"{}return {}\".format(indent, tree_.value[node]))\n",
    "\n",
    "    recurse(0, 1)"
   ]
  },
  {
   "cell_type": "code",
   "execution_count": 18,
   "metadata": {},
   "outputs": [
    {
     "name": "stdout",
     "output_type": "stream",
     "text": [
      "def tree(sepal length (cm), sepal width (cm), petal length (cm), petal width (cm)):\n",
      "  if petal width (cm) <= 0.800000011920929:\n",
      "    return [[37.  0.  0.]]\n",
      "  else:  # if petal width (cm) > 0.800000011920929\n",
      "    if petal width (cm) <= 1.75:\n",
      "      if petal length (cm) <= 5.349999904632568:\n",
      "        return [[ 0. 43.  2.]]\n",
      "      else:  # if petal length (cm) > 5.349999904632568\n",
      "        return [[0. 0. 2.]]\n",
      "    else:  # if petal width (cm) > 1.75\n",
      "      if petal length (cm) <= 4.8500001430511475:\n",
      "        return [[0. 1. 1.]]\n",
      "      else:  # if petal length (cm) > 4.8500001430511475\n",
      "        return [[ 0.  0. 34.]]\n"
     ]
    }
   ],
   "source": [
    "tree_to_code(model , data.feature_names)"
   ]
  },
  {
   "cell_type": "markdown",
   "metadata": {},
   "source": [
    "## <span style=\"font-family:Microsoft JhengHei;\">不同類型資料處理方式</span>"
   ]
  },
  {
   "cell_type": "code",
   "execution_count": 23,
   "metadata": {},
   "outputs": [
    {
     "data": {
      "text/html": [
       "<div>\n",
       "<style scoped>\n",
       "    .dataframe tbody tr th:only-of-type {\n",
       "        vertical-align: middle;\n",
       "    }\n",
       "\n",
       "    .dataframe tbody tr th {\n",
       "        vertical-align: top;\n",
       "    }\n",
       "\n",
       "    .dataframe thead th {\n",
       "        text-align: right;\n",
       "    }\n",
       "</style>\n",
       "<table border=\"1\" class=\"dataframe\">\n",
       "  <thead>\n",
       "    <tr style=\"text-align: right;\">\n",
       "      <th></th>\n",
       "      <th>性別</th>\n",
       "      <th>年齡</th>\n",
       "      <th>學歷</th>\n",
       "      <th>居住地</th>\n",
       "      <th>是否違約</th>\n",
       "    </tr>\n",
       "    <tr>\n",
       "      <th>ID</th>\n",
       "      <th></th>\n",
       "      <th></th>\n",
       "      <th></th>\n",
       "      <th></th>\n",
       "      <th></th>\n",
       "    </tr>\n",
       "  </thead>\n",
       "  <tbody>\n",
       "    <tr>\n",
       "      <th>1</th>\n",
       "      <td>女</td>\n",
       "      <td>22</td>\n",
       "      <td>大學</td>\n",
       "      <td>台北市</td>\n",
       "      <td>否</td>\n",
       "    </tr>\n",
       "    <tr>\n",
       "      <th>2</th>\n",
       "      <td>男</td>\n",
       "      <td>24</td>\n",
       "      <td>大學</td>\n",
       "      <td>新北市</td>\n",
       "      <td>否</td>\n",
       "    </tr>\n",
       "    <tr>\n",
       "      <th>3</th>\n",
       "      <td>男</td>\n",
       "      <td>35</td>\n",
       "      <td>大學</td>\n",
       "      <td>桃園市</td>\n",
       "      <td>是</td>\n",
       "    </tr>\n",
       "    <tr>\n",
       "      <th>4</th>\n",
       "      <td>女</td>\n",
       "      <td>31</td>\n",
       "      <td>大學</td>\n",
       "      <td>新北市</td>\n",
       "      <td>否</td>\n",
       "    </tr>\n",
       "    <tr>\n",
       "      <th>5</th>\n",
       "      <td>女</td>\n",
       "      <td>27</td>\n",
       "      <td>大學</td>\n",
       "      <td>桃園市</td>\n",
       "      <td>否</td>\n",
       "    </tr>\n",
       "    <tr>\n",
       "      <th>6</th>\n",
       "      <td>男</td>\n",
       "      <td>25</td>\n",
       "      <td>碩士</td>\n",
       "      <td>新北市</td>\n",
       "      <td>是</td>\n",
       "    </tr>\n",
       "    <tr>\n",
       "      <th>7</th>\n",
       "      <td>男</td>\n",
       "      <td>23</td>\n",
       "      <td>高中</td>\n",
       "      <td>台北市</td>\n",
       "      <td>是</td>\n",
       "    </tr>\n",
       "    <tr>\n",
       "      <th>8</th>\n",
       "      <td>女</td>\n",
       "      <td>35</td>\n",
       "      <td>碩士</td>\n",
       "      <td>台北市</td>\n",
       "      <td>否</td>\n",
       "    </tr>\n",
       "    <tr>\n",
       "      <th>9</th>\n",
       "      <td>女</td>\n",
       "      <td>26</td>\n",
       "      <td>高中</td>\n",
       "      <td>台北市</td>\n",
       "      <td>否</td>\n",
       "    </tr>\n",
       "    <tr>\n",
       "      <th>10</th>\n",
       "      <td>男</td>\n",
       "      <td>36</td>\n",
       "      <td>碩士</td>\n",
       "      <td>新北市</td>\n",
       "      <td>否</td>\n",
       "    </tr>\n",
       "  </tbody>\n",
       "</table>\n",
       "</div>"
      ],
      "text/plain": [
       "   性別  年齡  學歷  居住地 是否違約\n",
       "ID                     \n",
       "1   女  22  大學  台北市    否\n",
       "2   男  24  大學  新北市    否\n",
       "3   男  35  大學  桃園市    是\n",
       "4   女  31  大學  新北市    否\n",
       "5   女  27  大學  桃園市    否\n",
       "6   男  25  碩士  新北市    是\n",
       "7   男  23  高中  台北市    是\n",
       "8   女  35  碩士  台北市    否\n",
       "9   女  26  高中  台北市    否\n",
       "10  男  36  碩士  新北市    否"
      ]
     },
     "execution_count": 23,
     "metadata": {},
     "output_type": "execute_result"
    }
   ],
   "source": [
    "file = 'dataset.csv'\n",
    "data = pd.read_csv(file , index_col = 0 , engine = 'python')\n",
    "data"
   ]
  },
  {
   "cell_type": "code",
   "execution_count": 24,
   "metadata": {},
   "outputs": [
    {
     "data": {
      "text/plain": [
       "ID\n",
       "1     否\n",
       "2     否\n",
       "3     是\n",
       "4     否\n",
       "5     否\n",
       "6     是\n",
       "7     是\n",
       "8     否\n",
       "9     否\n",
       "10    否\n",
       "Name: 是否違約, dtype: object"
      ]
     },
     "execution_count": 24,
     "metadata": {},
     "output_type": "execute_result"
    }
   ],
   "source": [
    "target = '是否違約'\n",
    "\n",
    "y = data[target]\n",
    "y"
   ]
  },
  {
   "cell_type": "code",
   "execution_count": 25,
   "metadata": {},
   "outputs": [
    {
     "data": {
      "text/html": [
       "<div>\n",
       "<style scoped>\n",
       "    .dataframe tbody tr th:only-of-type {\n",
       "        vertical-align: middle;\n",
       "    }\n",
       "\n",
       "    .dataframe tbody tr th {\n",
       "        vertical-align: top;\n",
       "    }\n",
       "\n",
       "    .dataframe thead th {\n",
       "        text-align: right;\n",
       "    }\n",
       "</style>\n",
       "<table border=\"1\" class=\"dataframe\">\n",
       "  <thead>\n",
       "    <tr style=\"text-align: right;\">\n",
       "      <th></th>\n",
       "      <th>性別</th>\n",
       "      <th>年齡</th>\n",
       "      <th>學歷</th>\n",
       "      <th>居住地</th>\n",
       "    </tr>\n",
       "    <tr>\n",
       "      <th>ID</th>\n",
       "      <th></th>\n",
       "      <th></th>\n",
       "      <th></th>\n",
       "      <th></th>\n",
       "    </tr>\n",
       "  </thead>\n",
       "  <tbody>\n",
       "    <tr>\n",
       "      <th>1</th>\n",
       "      <td>女</td>\n",
       "      <td>22</td>\n",
       "      <td>大學</td>\n",
       "      <td>台北市</td>\n",
       "    </tr>\n",
       "    <tr>\n",
       "      <th>2</th>\n",
       "      <td>男</td>\n",
       "      <td>24</td>\n",
       "      <td>大學</td>\n",
       "      <td>新北市</td>\n",
       "    </tr>\n",
       "    <tr>\n",
       "      <th>3</th>\n",
       "      <td>男</td>\n",
       "      <td>35</td>\n",
       "      <td>大學</td>\n",
       "      <td>桃園市</td>\n",
       "    </tr>\n",
       "    <tr>\n",
       "      <th>4</th>\n",
       "      <td>女</td>\n",
       "      <td>31</td>\n",
       "      <td>大學</td>\n",
       "      <td>新北市</td>\n",
       "    </tr>\n",
       "    <tr>\n",
       "      <th>5</th>\n",
       "      <td>女</td>\n",
       "      <td>27</td>\n",
       "      <td>大學</td>\n",
       "      <td>桃園市</td>\n",
       "    </tr>\n",
       "    <tr>\n",
       "      <th>6</th>\n",
       "      <td>男</td>\n",
       "      <td>25</td>\n",
       "      <td>碩士</td>\n",
       "      <td>新北市</td>\n",
       "    </tr>\n",
       "    <tr>\n",
       "      <th>7</th>\n",
       "      <td>男</td>\n",
       "      <td>23</td>\n",
       "      <td>高中</td>\n",
       "      <td>台北市</td>\n",
       "    </tr>\n",
       "    <tr>\n",
       "      <th>8</th>\n",
       "      <td>女</td>\n",
       "      <td>35</td>\n",
       "      <td>碩士</td>\n",
       "      <td>台北市</td>\n",
       "    </tr>\n",
       "    <tr>\n",
       "      <th>9</th>\n",
       "      <td>女</td>\n",
       "      <td>26</td>\n",
       "      <td>高中</td>\n",
       "      <td>台北市</td>\n",
       "    </tr>\n",
       "    <tr>\n",
       "      <th>10</th>\n",
       "      <td>男</td>\n",
       "      <td>36</td>\n",
       "      <td>碩士</td>\n",
       "      <td>新北市</td>\n",
       "    </tr>\n",
       "  </tbody>\n",
       "</table>\n",
       "</div>"
      ],
      "text/plain": [
       "   性別  年齡  學歷  居住地\n",
       "ID                \n",
       "1   女  22  大學  台北市\n",
       "2   男  24  大學  新北市\n",
       "3   男  35  大學  桃園市\n",
       "4   女  31  大學  新北市\n",
       "5   女  27  大學  桃園市\n",
       "6   男  25  碩士  新北市\n",
       "7   男  23  高中  台北市\n",
       "8   女  35  碩士  台北市\n",
       "9   女  26  高中  台北市\n",
       "10  男  36  碩士  新北市"
      ]
     },
     "execution_count": 25,
     "metadata": {},
     "output_type": "execute_result"
    }
   ],
   "source": [
    "X = data.drop(target , axis = 1)\n",
    "X"
   ]
  },
  {
   "cell_type": "markdown",
   "metadata": {},
   "source": [
    "### <span style=\"font-family:Microsoft JhengHei;\">資料未處理直接使用決策樹分類</span>"
   ]
  },
  {
   "cell_type": "code",
   "execution_count": 26,
   "metadata": {},
   "outputs": [
    {
     "ename": "ValueError",
     "evalue": "could not convert string to float: '女'",
     "output_type": "error",
     "traceback": [
      "\u001b[0;31m---------------------------------------------------------------------------\u001b[0m",
      "\u001b[0;31mValueError\u001b[0m                                Traceback (most recent call last)",
      "\u001b[0;32m<ipython-input-26-e4aa2dfbb829>\u001b[0m in \u001b[0;36m<module>\u001b[0;34m\u001b[0m\n\u001b[1;32m      4\u001b[0m \u001b[0;31m# decision tree\u001b[0m\u001b[0;34m\u001b[0m\u001b[0;34m\u001b[0m\u001b[0;34m\u001b[0m\u001b[0m\n\u001b[1;32m      5\u001b[0m \u001b[0mmodel\u001b[0m \u001b[0;34m=\u001b[0m \u001b[0mDecisionTreeClassifier\u001b[0m\u001b[0;34m(\u001b[0m\u001b[0;34m)\u001b[0m\u001b[0;34m\u001b[0m\u001b[0;34m\u001b[0m\u001b[0m\n\u001b[0;32m----> 6\u001b[0;31m \u001b[0mmodel\u001b[0m\u001b[0;34m.\u001b[0m\u001b[0mfit\u001b[0m\u001b[0;34m(\u001b[0m\u001b[0mX_train\u001b[0m\u001b[0;34m,\u001b[0m \u001b[0my_train\u001b[0m\u001b[0;34m)\u001b[0m\u001b[0;34m\u001b[0m\u001b[0;34m\u001b[0m\u001b[0m\n\u001b[0m",
      "\u001b[0;32m~/opt/anaconda3/lib/python3.7/site-packages/sklearn/tree/_classes.py\u001b[0m in \u001b[0;36mfit\u001b[0;34m(self, X, y, sample_weight, check_input, X_idx_sorted)\u001b[0m\n\u001b[1;32m    875\u001b[0m             \u001b[0msample_weight\u001b[0m\u001b[0;34m=\u001b[0m\u001b[0msample_weight\u001b[0m\u001b[0;34m,\u001b[0m\u001b[0;34m\u001b[0m\u001b[0;34m\u001b[0m\u001b[0m\n\u001b[1;32m    876\u001b[0m             \u001b[0mcheck_input\u001b[0m\u001b[0;34m=\u001b[0m\u001b[0mcheck_input\u001b[0m\u001b[0;34m,\u001b[0m\u001b[0;34m\u001b[0m\u001b[0;34m\u001b[0m\u001b[0m\n\u001b[0;32m--> 877\u001b[0;31m             X_idx_sorted=X_idx_sorted)\n\u001b[0m\u001b[1;32m    878\u001b[0m         \u001b[0;32mreturn\u001b[0m \u001b[0mself\u001b[0m\u001b[0;34m\u001b[0m\u001b[0;34m\u001b[0m\u001b[0m\n\u001b[1;32m    879\u001b[0m \u001b[0;34m\u001b[0m\u001b[0m\n",
      "\u001b[0;32m~/opt/anaconda3/lib/python3.7/site-packages/sklearn/tree/_classes.py\u001b[0m in \u001b[0;36mfit\u001b[0;34m(self, X, y, sample_weight, check_input, X_idx_sorted)\u001b[0m\n\u001b[1;32m    147\u001b[0m \u001b[0;34m\u001b[0m\u001b[0m\n\u001b[1;32m    148\u001b[0m         \u001b[0;32mif\u001b[0m \u001b[0mcheck_input\u001b[0m\u001b[0;34m:\u001b[0m\u001b[0;34m\u001b[0m\u001b[0;34m\u001b[0m\u001b[0m\n\u001b[0;32m--> 149\u001b[0;31m             \u001b[0mX\u001b[0m \u001b[0;34m=\u001b[0m \u001b[0mcheck_array\u001b[0m\u001b[0;34m(\u001b[0m\u001b[0mX\u001b[0m\u001b[0;34m,\u001b[0m \u001b[0mdtype\u001b[0m\u001b[0;34m=\u001b[0m\u001b[0mDTYPE\u001b[0m\u001b[0;34m,\u001b[0m \u001b[0maccept_sparse\u001b[0m\u001b[0;34m=\u001b[0m\u001b[0;34m\"csc\"\u001b[0m\u001b[0;34m)\u001b[0m\u001b[0;34m\u001b[0m\u001b[0;34m\u001b[0m\u001b[0m\n\u001b[0m\u001b[1;32m    150\u001b[0m             \u001b[0my\u001b[0m \u001b[0;34m=\u001b[0m \u001b[0mcheck_array\u001b[0m\u001b[0;34m(\u001b[0m\u001b[0my\u001b[0m\u001b[0;34m,\u001b[0m \u001b[0mensure_2d\u001b[0m\u001b[0;34m=\u001b[0m\u001b[0;32mFalse\u001b[0m\u001b[0;34m,\u001b[0m \u001b[0mdtype\u001b[0m\u001b[0;34m=\u001b[0m\u001b[0;32mNone\u001b[0m\u001b[0;34m)\u001b[0m\u001b[0;34m\u001b[0m\u001b[0;34m\u001b[0m\u001b[0m\n\u001b[1;32m    151\u001b[0m             \u001b[0;32mif\u001b[0m \u001b[0missparse\u001b[0m\u001b[0;34m(\u001b[0m\u001b[0mX\u001b[0m\u001b[0;34m)\u001b[0m\u001b[0;34m:\u001b[0m\u001b[0;34m\u001b[0m\u001b[0;34m\u001b[0m\u001b[0m\n",
      "\u001b[0;32m~/opt/anaconda3/lib/python3.7/site-packages/sklearn/utils/validation.py\u001b[0m in \u001b[0;36mcheck_array\u001b[0;34m(array, accept_sparse, accept_large_sparse, dtype, order, copy, force_all_finite, ensure_2d, allow_nd, ensure_min_samples, ensure_min_features, warn_on_dtype, estimator)\u001b[0m\n\u001b[1;32m    529\u001b[0m                     \u001b[0marray\u001b[0m \u001b[0;34m=\u001b[0m \u001b[0marray\u001b[0m\u001b[0;34m.\u001b[0m\u001b[0mastype\u001b[0m\u001b[0;34m(\u001b[0m\u001b[0mdtype\u001b[0m\u001b[0;34m,\u001b[0m \u001b[0mcasting\u001b[0m\u001b[0;34m=\u001b[0m\u001b[0;34m\"unsafe\"\u001b[0m\u001b[0;34m,\u001b[0m \u001b[0mcopy\u001b[0m\u001b[0;34m=\u001b[0m\u001b[0;32mFalse\u001b[0m\u001b[0;34m)\u001b[0m\u001b[0;34m\u001b[0m\u001b[0;34m\u001b[0m\u001b[0m\n\u001b[1;32m    530\u001b[0m                 \u001b[0;32melse\u001b[0m\u001b[0;34m:\u001b[0m\u001b[0;34m\u001b[0m\u001b[0;34m\u001b[0m\u001b[0m\n\u001b[0;32m--> 531\u001b[0;31m                     \u001b[0marray\u001b[0m \u001b[0;34m=\u001b[0m \u001b[0mnp\u001b[0m\u001b[0;34m.\u001b[0m\u001b[0masarray\u001b[0m\u001b[0;34m(\u001b[0m\u001b[0marray\u001b[0m\u001b[0;34m,\u001b[0m \u001b[0morder\u001b[0m\u001b[0;34m=\u001b[0m\u001b[0morder\u001b[0m\u001b[0;34m,\u001b[0m \u001b[0mdtype\u001b[0m\u001b[0;34m=\u001b[0m\u001b[0mdtype\u001b[0m\u001b[0;34m)\u001b[0m\u001b[0;34m\u001b[0m\u001b[0;34m\u001b[0m\u001b[0m\n\u001b[0m\u001b[1;32m    532\u001b[0m             \u001b[0;32mexcept\u001b[0m \u001b[0mComplexWarning\u001b[0m\u001b[0;34m:\u001b[0m\u001b[0;34m\u001b[0m\u001b[0;34m\u001b[0m\u001b[0m\n\u001b[1;32m    533\u001b[0m                 raise ValueError(\"Complex data not supported\\n\"\n",
      "\u001b[0;32m~/opt/anaconda3/lib/python3.7/site-packages/numpy/core/_asarray.py\u001b[0m in \u001b[0;36masarray\u001b[0;34m(a, dtype, order)\u001b[0m\n\u001b[1;32m     83\u001b[0m \u001b[0;34m\u001b[0m\u001b[0m\n\u001b[1;32m     84\u001b[0m     \"\"\"\n\u001b[0;32m---> 85\u001b[0;31m     \u001b[0;32mreturn\u001b[0m \u001b[0marray\u001b[0m\u001b[0;34m(\u001b[0m\u001b[0ma\u001b[0m\u001b[0;34m,\u001b[0m \u001b[0mdtype\u001b[0m\u001b[0;34m,\u001b[0m \u001b[0mcopy\u001b[0m\u001b[0;34m=\u001b[0m\u001b[0;32mFalse\u001b[0m\u001b[0;34m,\u001b[0m \u001b[0morder\u001b[0m\u001b[0;34m=\u001b[0m\u001b[0morder\u001b[0m\u001b[0;34m)\u001b[0m\u001b[0;34m\u001b[0m\u001b[0;34m\u001b[0m\u001b[0m\n\u001b[0m\u001b[1;32m     86\u001b[0m \u001b[0;34m\u001b[0m\u001b[0m\n\u001b[1;32m     87\u001b[0m \u001b[0;34m\u001b[0m\u001b[0m\n",
      "\u001b[0;31mValueError\u001b[0m: could not convert string to float: '女'"
     ]
    }
   ],
   "source": [
    "test_size = 0.2\n",
    "X_train, X_test, y_train, y_test = train_test_split(X , y , test_size = test_size)\n",
    "\n",
    "# decision tree\n",
    "model = DecisionTreeClassifier()\n",
    "model.fit(X_train, y_train)"
   ]
  },
  {
   "cell_type": "code",
   "execution_count": 27,
   "metadata": {},
   "outputs": [
    {
     "data": {
      "text/html": [
       "<style>\n",
       ".output {\n",
       "    flex-direction: row;\n",
       "}\n",
       "</style>"
      ],
      "text/plain": [
       "<IPython.core.display.HTML object>"
      ]
     },
     "execution_count": 27,
     "metadata": {},
     "output_type": "execute_result"
    }
   ],
   "source": [
    "from IPython.display import display, HTML\n",
    "\n",
    "CSS = \"\"\"\n",
    ".output {\n",
    "    flex-direction: row;\n",
    "}\n",
    "\"\"\"\n",
    "\n",
    "HTML('<style>{}</style>'.format(CSS))"
   ]
  },
  {
   "cell_type": "markdown",
   "metadata": {},
   "source": [
    "### <span style=\"font-family:Microsoft JhengHei;\">處理資料</span>\n",
    "<span style=\"font-family:Microsoft JhengHei;font-size:16px;\">二元類別資料 -- 性別</span>\n",
    "<span style=\"font-family:Microsoft JhengHei;\">__把男轉成1,女轉成0__</span>"
   ]
  },
  {
   "cell_type": "code",
   "execution_count": 28,
   "metadata": {},
   "outputs": [
    {
     "data": {
      "text/html": [
       "<div>\n",
       "<style scoped>\n",
       "    .dataframe tbody tr th:only-of-type {\n",
       "        vertical-align: middle;\n",
       "    }\n",
       "\n",
       "    .dataframe tbody tr th {\n",
       "        vertical-align: top;\n",
       "    }\n",
       "\n",
       "    .dataframe thead th {\n",
       "        text-align: right;\n",
       "    }\n",
       "</style>\n",
       "<table border=\"1\" class=\"dataframe\">\n",
       "  <thead>\n",
       "    <tr style=\"text-align: right;\">\n",
       "      <th></th>\n",
       "      <th>性別</th>\n",
       "      <th>年齡</th>\n",
       "      <th>學歷</th>\n",
       "      <th>居住地</th>\n",
       "    </tr>\n",
       "    <tr>\n",
       "      <th>ID</th>\n",
       "      <th></th>\n",
       "      <th></th>\n",
       "      <th></th>\n",
       "      <th></th>\n",
       "    </tr>\n",
       "  </thead>\n",
       "  <tbody>\n",
       "    <tr>\n",
       "      <th>1</th>\n",
       "      <td>女</td>\n",
       "      <td>22</td>\n",
       "      <td>大學</td>\n",
       "      <td>台北市</td>\n",
       "    </tr>\n",
       "    <tr>\n",
       "      <th>2</th>\n",
       "      <td>男</td>\n",
       "      <td>24</td>\n",
       "      <td>大學</td>\n",
       "      <td>新北市</td>\n",
       "    </tr>\n",
       "    <tr>\n",
       "      <th>3</th>\n",
       "      <td>男</td>\n",
       "      <td>35</td>\n",
       "      <td>大學</td>\n",
       "      <td>桃園市</td>\n",
       "    </tr>\n",
       "    <tr>\n",
       "      <th>4</th>\n",
       "      <td>女</td>\n",
       "      <td>31</td>\n",
       "      <td>大學</td>\n",
       "      <td>新北市</td>\n",
       "    </tr>\n",
       "    <tr>\n",
       "      <th>5</th>\n",
       "      <td>女</td>\n",
       "      <td>27</td>\n",
       "      <td>大學</td>\n",
       "      <td>桃園市</td>\n",
       "    </tr>\n",
       "    <tr>\n",
       "      <th>6</th>\n",
       "      <td>男</td>\n",
       "      <td>25</td>\n",
       "      <td>碩士</td>\n",
       "      <td>新北市</td>\n",
       "    </tr>\n",
       "    <tr>\n",
       "      <th>7</th>\n",
       "      <td>男</td>\n",
       "      <td>23</td>\n",
       "      <td>高中</td>\n",
       "      <td>台北市</td>\n",
       "    </tr>\n",
       "    <tr>\n",
       "      <th>8</th>\n",
       "      <td>女</td>\n",
       "      <td>35</td>\n",
       "      <td>碩士</td>\n",
       "      <td>台北市</td>\n",
       "    </tr>\n",
       "    <tr>\n",
       "      <th>9</th>\n",
       "      <td>女</td>\n",
       "      <td>26</td>\n",
       "      <td>高中</td>\n",
       "      <td>台北市</td>\n",
       "    </tr>\n",
       "    <tr>\n",
       "      <th>10</th>\n",
       "      <td>男</td>\n",
       "      <td>36</td>\n",
       "      <td>碩士</td>\n",
       "      <td>新北市</td>\n",
       "    </tr>\n",
       "  </tbody>\n",
       "</table>\n",
       "</div>"
      ],
      "text/plain": [
       "   性別  年齡  學歷  居住地\n",
       "ID                \n",
       "1   女  22  大學  台北市\n",
       "2   男  24  大學  新北市\n",
       "3   男  35  大學  桃園市\n",
       "4   女  31  大學  新北市\n",
       "5   女  27  大學  桃園市\n",
       "6   男  25  碩士  新北市\n",
       "7   男  23  高中  台北市\n",
       "8   女  35  碩士  台北市\n",
       "9   女  26  高中  台北市\n",
       "10  男  36  碩士  新北市"
      ]
     },
     "metadata": {},
     "output_type": "display_data"
    },
    {
     "data": {
      "text/html": [
       "<div>\n",
       "<style scoped>\n",
       "    .dataframe tbody tr th:only-of-type {\n",
       "        vertical-align: middle;\n",
       "    }\n",
       "\n",
       "    .dataframe tbody tr th {\n",
       "        vertical-align: top;\n",
       "    }\n",
       "\n",
       "    .dataframe thead th {\n",
       "        text-align: right;\n",
       "    }\n",
       "</style>\n",
       "<table border=\"1\" class=\"dataframe\">\n",
       "  <thead>\n",
       "    <tr style=\"text-align: right;\">\n",
       "      <th></th>\n",
       "      <th>性別</th>\n",
       "      <th>年齡</th>\n",
       "      <th>學歷</th>\n",
       "      <th>居住地</th>\n",
       "    </tr>\n",
       "    <tr>\n",
       "      <th>ID</th>\n",
       "      <th></th>\n",
       "      <th></th>\n",
       "      <th></th>\n",
       "      <th></th>\n",
       "    </tr>\n",
       "  </thead>\n",
       "  <tbody>\n",
       "    <tr>\n",
       "      <th>1</th>\n",
       "      <td>0</td>\n",
       "      <td>22</td>\n",
       "      <td>大學</td>\n",
       "      <td>台北市</td>\n",
       "    </tr>\n",
       "    <tr>\n",
       "      <th>2</th>\n",
       "      <td>1</td>\n",
       "      <td>24</td>\n",
       "      <td>大學</td>\n",
       "      <td>新北市</td>\n",
       "    </tr>\n",
       "    <tr>\n",
       "      <th>3</th>\n",
       "      <td>1</td>\n",
       "      <td>35</td>\n",
       "      <td>大學</td>\n",
       "      <td>桃園市</td>\n",
       "    </tr>\n",
       "    <tr>\n",
       "      <th>4</th>\n",
       "      <td>0</td>\n",
       "      <td>31</td>\n",
       "      <td>大學</td>\n",
       "      <td>新北市</td>\n",
       "    </tr>\n",
       "    <tr>\n",
       "      <th>5</th>\n",
       "      <td>0</td>\n",
       "      <td>27</td>\n",
       "      <td>大學</td>\n",
       "      <td>桃園市</td>\n",
       "    </tr>\n",
       "    <tr>\n",
       "      <th>6</th>\n",
       "      <td>1</td>\n",
       "      <td>25</td>\n",
       "      <td>碩士</td>\n",
       "      <td>新北市</td>\n",
       "    </tr>\n",
       "    <tr>\n",
       "      <th>7</th>\n",
       "      <td>1</td>\n",
       "      <td>23</td>\n",
       "      <td>高中</td>\n",
       "      <td>台北市</td>\n",
       "    </tr>\n",
       "    <tr>\n",
       "      <th>8</th>\n",
       "      <td>0</td>\n",
       "      <td>35</td>\n",
       "      <td>碩士</td>\n",
       "      <td>台北市</td>\n",
       "    </tr>\n",
       "    <tr>\n",
       "      <th>9</th>\n",
       "      <td>0</td>\n",
       "      <td>26</td>\n",
       "      <td>高中</td>\n",
       "      <td>台北市</td>\n",
       "    </tr>\n",
       "    <tr>\n",
       "      <th>10</th>\n",
       "      <td>1</td>\n",
       "      <td>36</td>\n",
       "      <td>碩士</td>\n",
       "      <td>新北市</td>\n",
       "    </tr>\n",
       "  </tbody>\n",
       "</table>\n",
       "</div>"
      ],
      "text/plain": [
       "    性別  年齡  學歷  居住地\n",
       "ID                 \n",
       "1    0  22  大學  台北市\n",
       "2    1  24  大學  新北市\n",
       "3    1  35  大學  桃園市\n",
       "4    0  31  大學  新北市\n",
       "5    0  27  大學  桃園市\n",
       "6    1  25  碩士  新北市\n",
       "7    1  23  高中  台北市\n",
       "8    0  35  碩士  台北市\n",
       "9    0  26  高中  台北市\n",
       "10   1  36  碩士  新北市"
      ]
     },
     "metadata": {},
     "output_type": "display_data"
    }
   ],
   "source": [
    "display(X)\n",
    "X['性別'] = list(map(lambda x : 1 if x == '男' else 0 , X['性別']))\n",
    "display(X)"
   ]
  },
  {
   "cell_type": "markdown",
   "metadata": {},
   "source": [
    "<span style=\"font-family:Microsoft JhengHei;font-size:16px;\">三元順序資料 -- 學歷</span>\n",
    "<span style=\"font-family:Microsoft JhengHei;\">__把高中轉成0,大學轉成1,碩士轉成2__</span>"
   ]
  },
  {
   "cell_type": "code",
   "execution_count": 29,
   "metadata": {},
   "outputs": [
    {
     "data": {
      "text/html": [
       "<div>\n",
       "<style scoped>\n",
       "    .dataframe tbody tr th:only-of-type {\n",
       "        vertical-align: middle;\n",
       "    }\n",
       "\n",
       "    .dataframe tbody tr th {\n",
       "        vertical-align: top;\n",
       "    }\n",
       "\n",
       "    .dataframe thead th {\n",
       "        text-align: right;\n",
       "    }\n",
       "</style>\n",
       "<table border=\"1\" class=\"dataframe\">\n",
       "  <thead>\n",
       "    <tr style=\"text-align: right;\">\n",
       "      <th></th>\n",
       "      <th>性別</th>\n",
       "      <th>年齡</th>\n",
       "      <th>學歷</th>\n",
       "      <th>居住地</th>\n",
       "    </tr>\n",
       "    <tr>\n",
       "      <th>ID</th>\n",
       "      <th></th>\n",
       "      <th></th>\n",
       "      <th></th>\n",
       "      <th></th>\n",
       "    </tr>\n",
       "  </thead>\n",
       "  <tbody>\n",
       "    <tr>\n",
       "      <th>1</th>\n",
       "      <td>0</td>\n",
       "      <td>22</td>\n",
       "      <td>大學</td>\n",
       "      <td>台北市</td>\n",
       "    </tr>\n",
       "    <tr>\n",
       "      <th>2</th>\n",
       "      <td>1</td>\n",
       "      <td>24</td>\n",
       "      <td>大學</td>\n",
       "      <td>新北市</td>\n",
       "    </tr>\n",
       "    <tr>\n",
       "      <th>3</th>\n",
       "      <td>1</td>\n",
       "      <td>35</td>\n",
       "      <td>大學</td>\n",
       "      <td>桃園市</td>\n",
       "    </tr>\n",
       "    <tr>\n",
       "      <th>4</th>\n",
       "      <td>0</td>\n",
       "      <td>31</td>\n",
       "      <td>大學</td>\n",
       "      <td>新北市</td>\n",
       "    </tr>\n",
       "    <tr>\n",
       "      <th>5</th>\n",
       "      <td>0</td>\n",
       "      <td>27</td>\n",
       "      <td>大學</td>\n",
       "      <td>桃園市</td>\n",
       "    </tr>\n",
       "    <tr>\n",
       "      <th>6</th>\n",
       "      <td>1</td>\n",
       "      <td>25</td>\n",
       "      <td>碩士</td>\n",
       "      <td>新北市</td>\n",
       "    </tr>\n",
       "    <tr>\n",
       "      <th>7</th>\n",
       "      <td>1</td>\n",
       "      <td>23</td>\n",
       "      <td>高中</td>\n",
       "      <td>台北市</td>\n",
       "    </tr>\n",
       "    <tr>\n",
       "      <th>8</th>\n",
       "      <td>0</td>\n",
       "      <td>35</td>\n",
       "      <td>碩士</td>\n",
       "      <td>台北市</td>\n",
       "    </tr>\n",
       "    <tr>\n",
       "      <th>9</th>\n",
       "      <td>0</td>\n",
       "      <td>26</td>\n",
       "      <td>高中</td>\n",
       "      <td>台北市</td>\n",
       "    </tr>\n",
       "    <tr>\n",
       "      <th>10</th>\n",
       "      <td>1</td>\n",
       "      <td>36</td>\n",
       "      <td>碩士</td>\n",
       "      <td>新北市</td>\n",
       "    </tr>\n",
       "  </tbody>\n",
       "</table>\n",
       "</div>"
      ],
      "text/plain": [
       "    性別  年齡  學歷  居住地\n",
       "ID                 \n",
       "1    0  22  大學  台北市\n",
       "2    1  24  大學  新北市\n",
       "3    1  35  大學  桃園市\n",
       "4    0  31  大學  新北市\n",
       "5    0  27  大學  桃園市\n",
       "6    1  25  碩士  新北市\n",
       "7    1  23  高中  台北市\n",
       "8    0  35  碩士  台北市\n",
       "9    0  26  高中  台北市\n",
       "10   1  36  碩士  新北市"
      ]
     },
     "metadata": {},
     "output_type": "display_data"
    },
    {
     "data": {
      "text/html": [
       "<div>\n",
       "<style scoped>\n",
       "    .dataframe tbody tr th:only-of-type {\n",
       "        vertical-align: middle;\n",
       "    }\n",
       "\n",
       "    .dataframe tbody tr th {\n",
       "        vertical-align: top;\n",
       "    }\n",
       "\n",
       "    .dataframe thead th {\n",
       "        text-align: right;\n",
       "    }\n",
       "</style>\n",
       "<table border=\"1\" class=\"dataframe\">\n",
       "  <thead>\n",
       "    <tr style=\"text-align: right;\">\n",
       "      <th></th>\n",
       "      <th>性別</th>\n",
       "      <th>年齡</th>\n",
       "      <th>學歷</th>\n",
       "      <th>居住地</th>\n",
       "    </tr>\n",
       "    <tr>\n",
       "      <th>ID</th>\n",
       "      <th></th>\n",
       "      <th></th>\n",
       "      <th></th>\n",
       "      <th></th>\n",
       "    </tr>\n",
       "  </thead>\n",
       "  <tbody>\n",
       "    <tr>\n",
       "      <th>1</th>\n",
       "      <td>0</td>\n",
       "      <td>22</td>\n",
       "      <td>1</td>\n",
       "      <td>台北市</td>\n",
       "    </tr>\n",
       "    <tr>\n",
       "      <th>2</th>\n",
       "      <td>1</td>\n",
       "      <td>24</td>\n",
       "      <td>1</td>\n",
       "      <td>新北市</td>\n",
       "    </tr>\n",
       "    <tr>\n",
       "      <th>3</th>\n",
       "      <td>1</td>\n",
       "      <td>35</td>\n",
       "      <td>1</td>\n",
       "      <td>桃園市</td>\n",
       "    </tr>\n",
       "    <tr>\n",
       "      <th>4</th>\n",
       "      <td>0</td>\n",
       "      <td>31</td>\n",
       "      <td>1</td>\n",
       "      <td>新北市</td>\n",
       "    </tr>\n",
       "    <tr>\n",
       "      <th>5</th>\n",
       "      <td>0</td>\n",
       "      <td>27</td>\n",
       "      <td>1</td>\n",
       "      <td>桃園市</td>\n",
       "    </tr>\n",
       "    <tr>\n",
       "      <th>6</th>\n",
       "      <td>1</td>\n",
       "      <td>25</td>\n",
       "      <td>2</td>\n",
       "      <td>新北市</td>\n",
       "    </tr>\n",
       "    <tr>\n",
       "      <th>7</th>\n",
       "      <td>1</td>\n",
       "      <td>23</td>\n",
       "      <td>0</td>\n",
       "      <td>台北市</td>\n",
       "    </tr>\n",
       "    <tr>\n",
       "      <th>8</th>\n",
       "      <td>0</td>\n",
       "      <td>35</td>\n",
       "      <td>2</td>\n",
       "      <td>台北市</td>\n",
       "    </tr>\n",
       "    <tr>\n",
       "      <th>9</th>\n",
       "      <td>0</td>\n",
       "      <td>26</td>\n",
       "      <td>0</td>\n",
       "      <td>台北市</td>\n",
       "    </tr>\n",
       "    <tr>\n",
       "      <th>10</th>\n",
       "      <td>1</td>\n",
       "      <td>36</td>\n",
       "      <td>2</td>\n",
       "      <td>新北市</td>\n",
       "    </tr>\n",
       "  </tbody>\n",
       "</table>\n",
       "</div>"
      ],
      "text/plain": [
       "    性別  年齡  學歷  居住地\n",
       "ID                 \n",
       "1    0  22   1  台北市\n",
       "2    1  24   1  新北市\n",
       "3    1  35   1  桃園市\n",
       "4    0  31   1  新北市\n",
       "5    0  27   1  桃園市\n",
       "6    1  25   2  新北市\n",
       "7    1  23   0  台北市\n",
       "8    0  35   2  台北市\n",
       "9    0  26   0  台北市\n",
       "10   1  36   2  新北市"
      ]
     },
     "metadata": {},
     "output_type": "display_data"
    }
   ],
   "source": [
    "display(X)\n",
    "X['學歷'] = list(map(lambda x : 0 if x == '高中' else (1 if x == '大學' else 2) , X['學歷']))\n",
    "display(X)"
   ]
  },
  {
   "cell_type": "markdown",
   "metadata": {},
   "source": [
    "<span style=\"font-family:Microsoft JhengHei;font-size:16px;\">三元類別資料 -- 居住地</span>\n",
    "<span style=\"font-family:Microsoft JhengHei;\">__把台北市、新北市、桃園市轉成虛擬變數__</span>\n",
    "\n",
    "<span style=\"font-family:Microsoft JhengHei;\">使用[`pandas.get_dummies`](https://pandas.pydata.org/pandas-docs/stable/generated/pandas.get_dummies.html)來生成</span>"
   ]
  },
  {
   "cell_type": "code",
   "execution_count": 30,
   "metadata": {},
   "outputs": [
    {
     "data": {
      "text/html": [
       "<div>\n",
       "<style scoped>\n",
       "    .dataframe tbody tr th:only-of-type {\n",
       "        vertical-align: middle;\n",
       "    }\n",
       "\n",
       "    .dataframe tbody tr th {\n",
       "        vertical-align: top;\n",
       "    }\n",
       "\n",
       "    .dataframe thead th {\n",
       "        text-align: right;\n",
       "    }\n",
       "</style>\n",
       "<table border=\"1\" class=\"dataframe\">\n",
       "  <thead>\n",
       "    <tr style=\"text-align: right;\">\n",
       "      <th></th>\n",
       "      <th>性別</th>\n",
       "      <th>年齡</th>\n",
       "      <th>學歷</th>\n",
       "      <th>居住地</th>\n",
       "    </tr>\n",
       "    <tr>\n",
       "      <th>ID</th>\n",
       "      <th></th>\n",
       "      <th></th>\n",
       "      <th></th>\n",
       "      <th></th>\n",
       "    </tr>\n",
       "  </thead>\n",
       "  <tbody>\n",
       "    <tr>\n",
       "      <th>1</th>\n",
       "      <td>0</td>\n",
       "      <td>22</td>\n",
       "      <td>1</td>\n",
       "      <td>台北市</td>\n",
       "    </tr>\n",
       "    <tr>\n",
       "      <th>2</th>\n",
       "      <td>1</td>\n",
       "      <td>24</td>\n",
       "      <td>1</td>\n",
       "      <td>新北市</td>\n",
       "    </tr>\n",
       "    <tr>\n",
       "      <th>3</th>\n",
       "      <td>1</td>\n",
       "      <td>35</td>\n",
       "      <td>1</td>\n",
       "      <td>桃園市</td>\n",
       "    </tr>\n",
       "    <tr>\n",
       "      <th>4</th>\n",
       "      <td>0</td>\n",
       "      <td>31</td>\n",
       "      <td>1</td>\n",
       "      <td>新北市</td>\n",
       "    </tr>\n",
       "    <tr>\n",
       "      <th>5</th>\n",
       "      <td>0</td>\n",
       "      <td>27</td>\n",
       "      <td>1</td>\n",
       "      <td>桃園市</td>\n",
       "    </tr>\n",
       "    <tr>\n",
       "      <th>6</th>\n",
       "      <td>1</td>\n",
       "      <td>25</td>\n",
       "      <td>2</td>\n",
       "      <td>新北市</td>\n",
       "    </tr>\n",
       "    <tr>\n",
       "      <th>7</th>\n",
       "      <td>1</td>\n",
       "      <td>23</td>\n",
       "      <td>0</td>\n",
       "      <td>台北市</td>\n",
       "    </tr>\n",
       "    <tr>\n",
       "      <th>8</th>\n",
       "      <td>0</td>\n",
       "      <td>35</td>\n",
       "      <td>2</td>\n",
       "      <td>台北市</td>\n",
       "    </tr>\n",
       "    <tr>\n",
       "      <th>9</th>\n",
       "      <td>0</td>\n",
       "      <td>26</td>\n",
       "      <td>0</td>\n",
       "      <td>台北市</td>\n",
       "    </tr>\n",
       "    <tr>\n",
       "      <th>10</th>\n",
       "      <td>1</td>\n",
       "      <td>36</td>\n",
       "      <td>2</td>\n",
       "      <td>新北市</td>\n",
       "    </tr>\n",
       "  </tbody>\n",
       "</table>\n",
       "</div>"
      ],
      "text/plain": [
       "    性別  年齡  學歷  居住地\n",
       "ID                 \n",
       "1    0  22   1  台北市\n",
       "2    1  24   1  新北市\n",
       "3    1  35   1  桃園市\n",
       "4    0  31   1  新北市\n",
       "5    0  27   1  桃園市\n",
       "6    1  25   2  新北市\n",
       "7    1  23   0  台北市\n",
       "8    0  35   2  台北市\n",
       "9    0  26   0  台北市\n",
       "10   1  36   2  新北市"
      ]
     },
     "metadata": {},
     "output_type": "display_data"
    },
    {
     "data": {
      "text/html": [
       "<div>\n",
       "<style scoped>\n",
       "    .dataframe tbody tr th:only-of-type {\n",
       "        vertical-align: middle;\n",
       "    }\n",
       "\n",
       "    .dataframe tbody tr th {\n",
       "        vertical-align: top;\n",
       "    }\n",
       "\n",
       "    .dataframe thead th {\n",
       "        text-align: right;\n",
       "    }\n",
       "</style>\n",
       "<table border=\"1\" class=\"dataframe\">\n",
       "  <thead>\n",
       "    <tr style=\"text-align: right;\">\n",
       "      <th></th>\n",
       "      <th>性別</th>\n",
       "      <th>年齡</th>\n",
       "      <th>學歷</th>\n",
       "      <th>居住地_台北市</th>\n",
       "      <th>居住地_新北市</th>\n",
       "      <th>居住地_桃園市</th>\n",
       "    </tr>\n",
       "    <tr>\n",
       "      <th>ID</th>\n",
       "      <th></th>\n",
       "      <th></th>\n",
       "      <th></th>\n",
       "      <th></th>\n",
       "      <th></th>\n",
       "      <th></th>\n",
       "    </tr>\n",
       "  </thead>\n",
       "  <tbody>\n",
       "    <tr>\n",
       "      <th>1</th>\n",
       "      <td>0</td>\n",
       "      <td>22</td>\n",
       "      <td>1</td>\n",
       "      <td>1</td>\n",
       "      <td>0</td>\n",
       "      <td>0</td>\n",
       "    </tr>\n",
       "    <tr>\n",
       "      <th>2</th>\n",
       "      <td>1</td>\n",
       "      <td>24</td>\n",
       "      <td>1</td>\n",
       "      <td>0</td>\n",
       "      <td>1</td>\n",
       "      <td>0</td>\n",
       "    </tr>\n",
       "    <tr>\n",
       "      <th>3</th>\n",
       "      <td>1</td>\n",
       "      <td>35</td>\n",
       "      <td>1</td>\n",
       "      <td>0</td>\n",
       "      <td>0</td>\n",
       "      <td>1</td>\n",
       "    </tr>\n",
       "    <tr>\n",
       "      <th>4</th>\n",
       "      <td>0</td>\n",
       "      <td>31</td>\n",
       "      <td>1</td>\n",
       "      <td>0</td>\n",
       "      <td>1</td>\n",
       "      <td>0</td>\n",
       "    </tr>\n",
       "    <tr>\n",
       "      <th>5</th>\n",
       "      <td>0</td>\n",
       "      <td>27</td>\n",
       "      <td>1</td>\n",
       "      <td>0</td>\n",
       "      <td>0</td>\n",
       "      <td>1</td>\n",
       "    </tr>\n",
       "    <tr>\n",
       "      <th>6</th>\n",
       "      <td>1</td>\n",
       "      <td>25</td>\n",
       "      <td>2</td>\n",
       "      <td>0</td>\n",
       "      <td>1</td>\n",
       "      <td>0</td>\n",
       "    </tr>\n",
       "    <tr>\n",
       "      <th>7</th>\n",
       "      <td>1</td>\n",
       "      <td>23</td>\n",
       "      <td>0</td>\n",
       "      <td>1</td>\n",
       "      <td>0</td>\n",
       "      <td>0</td>\n",
       "    </tr>\n",
       "    <tr>\n",
       "      <th>8</th>\n",
       "      <td>0</td>\n",
       "      <td>35</td>\n",
       "      <td>2</td>\n",
       "      <td>1</td>\n",
       "      <td>0</td>\n",
       "      <td>0</td>\n",
       "    </tr>\n",
       "    <tr>\n",
       "      <th>9</th>\n",
       "      <td>0</td>\n",
       "      <td>26</td>\n",
       "      <td>0</td>\n",
       "      <td>1</td>\n",
       "      <td>0</td>\n",
       "      <td>0</td>\n",
       "    </tr>\n",
       "    <tr>\n",
       "      <th>10</th>\n",
       "      <td>1</td>\n",
       "      <td>36</td>\n",
       "      <td>2</td>\n",
       "      <td>0</td>\n",
       "      <td>1</td>\n",
       "      <td>0</td>\n",
       "    </tr>\n",
       "  </tbody>\n",
       "</table>\n",
       "</div>"
      ],
      "text/plain": [
       "    性別  年齡  學歷  居住地_台北市  居住地_新北市  居住地_桃園市\n",
       "ID                                       \n",
       "1    0  22   1        1        0        0\n",
       "2    1  24   1        0        1        0\n",
       "3    1  35   1        0        0        1\n",
       "4    0  31   1        0        1        0\n",
       "5    0  27   1        0        0        1\n",
       "6    1  25   2        0        1        0\n",
       "7    1  23   0        1        0        0\n",
       "8    0  35   2        1        0        0\n",
       "9    0  26   0        1        0        0\n",
       "10   1  36   2        0        1        0"
      ]
     },
     "metadata": {},
     "output_type": "display_data"
    }
   ],
   "source": [
    "display(X)\n",
    "X = pd.get_dummies(X , prefix = ['居住地'])\n",
    "display(X)"
   ]
  },
  {
   "cell_type": "markdown",
   "metadata": {},
   "source": [
    "## <span style=\"font-family:Microsoft JhengHei;\">使用決策樹分類</span>"
   ]
  },
  {
   "cell_type": "code",
   "execution_count": 31,
   "metadata": {},
   "outputs": [
    {
     "data": {
      "text/plain": [
       "DecisionTreeClassifier(ccp_alpha=0.0, class_weight=None, criterion='gini',\n",
       "                       max_depth=None, max_features=None, max_leaf_nodes=None,\n",
       "                       min_impurity_decrease=0.0, min_impurity_split=None,\n",
       "                       min_samples_leaf=1, min_samples_split=2,\n",
       "                       min_weight_fraction_leaf=0.0, presort='deprecated',\n",
       "                       random_state=None, splitter='best')"
      ]
     },
     "execution_count": 31,
     "metadata": {},
     "output_type": "execute_result"
    }
   ],
   "source": [
    "test_size = 0.2\n",
    "X_train, X_test, y_train, y_test = train_test_split(X , y , test_size = test_size)\n",
    "\n",
    "# decision tree\n",
    "model = DecisionTreeClassifier()\n",
    "model.fit(X_train, y_train)"
   ]
  },
  {
   "cell_type": "markdown",
   "metadata": {},
   "source": [
    "<span style=\"font-family:Microsoft JhengHei;color:#DE3B25;\">__注意：此時target(y)的資料還是字串__</span>"
   ]
  },
  {
   "cell_type": "code",
   "execution_count": 32,
   "metadata": {},
   "outputs": [
    {
     "data": {
      "text/plain": [
       "Index(['性別', '年齡', '學歷', '居住地_台北市', '居住地_新北市', '居住地_桃園市'], dtype='object')"
      ]
     },
     "execution_count": 32,
     "metadata": {},
     "output_type": "execute_result"
    }
   ],
   "source": [
    "X.columns"
   ]
  },
  {
   "cell_type": "code",
   "execution_count": 33,
   "metadata": {},
   "outputs": [
    {
     "data": {
      "text/plain": [
       "array(['否', '是'], dtype=object)"
      ]
     },
     "execution_count": 33,
     "metadata": {},
     "output_type": "execute_result"
    }
   ],
   "source": [
    "model.classes_"
   ]
  },
  {
   "cell_type": "code",
   "execution_count": 34,
   "metadata": {},
   "outputs": [
    {
     "data": {
      "image/svg+xml": [
       "<?xml version=\"1.0\" encoding=\"UTF-8\" standalone=\"no\"?>\n",
       "<!DOCTYPE svg PUBLIC \"-//W3C//DTD SVG 1.1//EN\"\n",
       " \"http://www.w3.org/Graphics/SVG/1.1/DTD/svg11.dtd\">\n",
       "<!-- Generated by graphviz version 2.40.1 (20161225.0304)\n",
       " -->\n",
       "<!-- Title: Tree Pages: 1 -->\n",
       "<svg width=\"277pt\" height=\"433pt\"\n",
       " viewBox=\"0.00 0.00 277.00 433.00\" xmlns=\"http://www.w3.org/2000/svg\" xmlns:xlink=\"http://www.w3.org/1999/xlink\">\n",
       "<g id=\"graph0\" class=\"graph\" transform=\"scale(1 1) rotate(0) translate(4 429)\">\n",
       "<title>Tree</title>\n",
       "<polygon fill=\"#ffffff\" stroke=\"transparent\" points=\"-4,4 -4,-429 273,-429 273,4 -4,4\"/>\n",
       "<!-- 0 -->\n",
       "<g id=\"node1\" class=\"node\">\n",
       "<title>0</title>\n",
       "<path fill=\"#eeab7b\" stroke=\"#000000\" d=\"M199,-425C199,-425 126,-425 126,-425 120,-425 114,-419 114,-413 114,-413 114,-354 114,-354 114,-348 120,-342 126,-342 126,-342 199,-342 199,-342 205,-342 211,-348 211,-354 211,-354 211,-413 211,-413 211,-419 205,-425 199,-425\"/>\n",
       "<text text-anchor=\"start\" x=\"127\" y=\"-409.8\" font-family=\"Helvetica,sans-Serif\" font-size=\"14.00\" fill=\"#000000\">年齡 ≤ 25.5</text>\n",
       "<text text-anchor=\"start\" x=\"126\" y=\"-394.8\" font-family=\"Helvetica,sans-Serif\" font-size=\"14.00\" fill=\"#000000\">gini = 0.375</text>\n",
       "<text text-anchor=\"start\" x=\"124.5\" y=\"-379.8\" font-family=\"Helvetica,sans-Serif\" font-size=\"14.00\" fill=\"#000000\">samples = 8</text>\n",
       "<text text-anchor=\"start\" x=\"122\" y=\"-364.8\" font-family=\"Helvetica,sans-Serif\" font-size=\"14.00\" fill=\"#000000\">value = [6, 2]</text>\n",
       "<text text-anchor=\"start\" x=\"131.5\" y=\"-349.8\" font-family=\"Helvetica,sans-Serif\" font-size=\"14.00\" fill=\"#000000\">class = 否</text>\n",
       "</g>\n",
       "<!-- 1 -->\n",
       "<g id=\"node2\" class=\"node\">\n",
       "<title>1</title>\n",
       "<path fill=\"#9ccef2\" stroke=\"#000000\" d=\"M142,-306C142,-306 69,-306 69,-306 63,-306 57,-300 57,-294 57,-294 57,-235 57,-235 57,-229 63,-223 69,-223 69,-223 142,-223 142,-223 148,-223 154,-229 154,-235 154,-235 154,-294 154,-294 154,-300 148,-306 142,-306\"/>\n",
       "<text text-anchor=\"start\" x=\"74\" y=\"-290.8\" font-family=\"Helvetica,sans-Serif\" font-size=\"14.00\" fill=\"#000000\">學歷 ≤ 0.5</text>\n",
       "<text text-anchor=\"start\" x=\"69\" y=\"-275.8\" font-family=\"Helvetica,sans-Serif\" font-size=\"14.00\" fill=\"#000000\">gini = 0.444</text>\n",
       "<text text-anchor=\"start\" x=\"67.5\" y=\"-260.8\" font-family=\"Helvetica,sans-Serif\" font-size=\"14.00\" fill=\"#000000\">samples = 3</text>\n",
       "<text text-anchor=\"start\" x=\"65\" y=\"-245.8\" font-family=\"Helvetica,sans-Serif\" font-size=\"14.00\" fill=\"#000000\">value = [1, 2]</text>\n",
       "<text text-anchor=\"start\" x=\"74.5\" y=\"-230.8\" font-family=\"Helvetica,sans-Serif\" font-size=\"14.00\" fill=\"#000000\">class = 是</text>\n",
       "</g>\n",
       "<!-- 0&#45;&gt;1 -->\n",
       "<g id=\"edge1\" class=\"edge\">\n",
       "<title>0&#45;&gt;1</title>\n",
       "<path fill=\"none\" stroke=\"#000000\" d=\"M142.5642,-341.8796C138.4659,-333.3236 134.1072,-324.2238 129.8727,-315.3833\"/>\n",
       "<polygon fill=\"#000000\" stroke=\"#000000\" points=\"132.9975,-313.8049 125.5209,-306.2981 126.6843,-316.8288 132.9975,-313.8049\"/>\n",
       "<text text-anchor=\"middle\" x=\"117.2144\" y=\"-326.1778\" font-family=\"Helvetica,sans-Serif\" font-size=\"14.00\" fill=\"#000000\">True</text>\n",
       "</g>\n",
       "<!-- 6 -->\n",
       "<g id=\"node7\" class=\"node\">\n",
       "<title>6</title>\n",
       "<path fill=\"#e58139\" stroke=\"#000000\" d=\"M257,-298.5C257,-298.5 184,-298.5 184,-298.5 178,-298.5 172,-292.5 172,-286.5 172,-286.5 172,-242.5 172,-242.5 172,-236.5 178,-230.5 184,-230.5 184,-230.5 257,-230.5 257,-230.5 263,-230.5 269,-236.5 269,-242.5 269,-242.5 269,-286.5 269,-286.5 269,-292.5 263,-298.5 257,-298.5\"/>\n",
       "<text text-anchor=\"start\" x=\"191.5\" y=\"-283.3\" font-family=\"Helvetica,sans-Serif\" font-size=\"14.00\" fill=\"#000000\">gini = 0.0</text>\n",
       "<text text-anchor=\"start\" x=\"182.5\" y=\"-268.3\" font-family=\"Helvetica,sans-Serif\" font-size=\"14.00\" fill=\"#000000\">samples = 5</text>\n",
       "<text text-anchor=\"start\" x=\"180\" y=\"-253.3\" font-family=\"Helvetica,sans-Serif\" font-size=\"14.00\" fill=\"#000000\">value = [5, 0]</text>\n",
       "<text text-anchor=\"start\" x=\"189.5\" y=\"-238.3\" font-family=\"Helvetica,sans-Serif\" font-size=\"14.00\" fill=\"#000000\">class = 否</text>\n",
       "</g>\n",
       "<!-- 0&#45;&gt;6 -->\n",
       "<g id=\"edge6\" class=\"edge\">\n",
       "<title>0&#45;&gt;6</title>\n",
       "<path fill=\"none\" stroke=\"#000000\" d=\"M182.7856,-341.8796C188.145,-330.8835 193.9422,-318.9893 199.3463,-307.9015\"/>\n",
       "<polygon fill=\"#000000\" stroke=\"#000000\" points=\"202.54,-309.3375 203.7751,-298.8149 196.2476,-306.2706 202.54,-309.3375\"/>\n",
       "<text text-anchor=\"middle\" x=\"211.9207\" y=\"-318.7507\" font-family=\"Helvetica,sans-Serif\" font-size=\"14.00\" fill=\"#000000\">False</text>\n",
       "</g>\n",
       "<!-- 2 -->\n",
       "<g id=\"node3\" class=\"node\">\n",
       "<title>2</title>\n",
       "<path fill=\"#399de5\" stroke=\"#000000\" d=\"M85,-179.5C85,-179.5 12,-179.5 12,-179.5 6,-179.5 0,-173.5 0,-167.5 0,-167.5 0,-123.5 0,-123.5 0,-117.5 6,-111.5 12,-111.5 12,-111.5 85,-111.5 85,-111.5 91,-111.5 97,-117.5 97,-123.5 97,-123.5 97,-167.5 97,-167.5 97,-173.5 91,-179.5 85,-179.5\"/>\n",
       "<text text-anchor=\"start\" x=\"19.5\" y=\"-164.3\" font-family=\"Helvetica,sans-Serif\" font-size=\"14.00\" fill=\"#000000\">gini = 0.0</text>\n",
       "<text text-anchor=\"start\" x=\"10.5\" y=\"-149.3\" font-family=\"Helvetica,sans-Serif\" font-size=\"14.00\" fill=\"#000000\">samples = 1</text>\n",
       "<text text-anchor=\"start\" x=\"8\" y=\"-134.3\" font-family=\"Helvetica,sans-Serif\" font-size=\"14.00\" fill=\"#000000\">value = [0, 1]</text>\n",
       "<text text-anchor=\"start\" x=\"17.5\" y=\"-119.3\" font-family=\"Helvetica,sans-Serif\" font-size=\"14.00\" fill=\"#000000\">class = 是</text>\n",
       "</g>\n",
       "<!-- 1&#45;&gt;2 -->\n",
       "<g id=\"edge2\" class=\"edge\">\n",
       "<title>1&#45;&gt;2</title>\n",
       "<path fill=\"none\" stroke=\"#000000\" d=\"M85.5642,-222.8796C80.2971,-211.8835 74.5999,-199.9893 69.289,-188.9015\"/>\n",
       "<polygon fill=\"#000000\" stroke=\"#000000\" points=\"72.4131,-187.3217 64.9366,-179.8149 66.1,-190.3457 72.4131,-187.3217\"/>\n",
       "</g>\n",
       "<!-- 3 -->\n",
       "<g id=\"node4\" class=\"node\">\n",
       "<title>3</title>\n",
       "<path fill=\"#ffffff\" stroke=\"#000000\" d=\"M200,-187C200,-187 127,-187 127,-187 121,-187 115,-181 115,-175 115,-175 115,-116 115,-116 115,-110 121,-104 127,-104 127,-104 200,-104 200,-104 206,-104 212,-110 212,-116 212,-116 212,-175 212,-175 212,-181 206,-187 200,-187\"/>\n",
       "<text text-anchor=\"start\" x=\"128\" y=\"-171.8\" font-family=\"Helvetica,sans-Serif\" font-size=\"14.00\" fill=\"#000000\">年齡 ≤ 24.5</text>\n",
       "<text text-anchor=\"start\" x=\"134.5\" y=\"-156.8\" font-family=\"Helvetica,sans-Serif\" font-size=\"14.00\" fill=\"#000000\">gini = 0.5</text>\n",
       "<text text-anchor=\"start\" x=\"125.5\" y=\"-141.8\" font-family=\"Helvetica,sans-Serif\" font-size=\"14.00\" fill=\"#000000\">samples = 2</text>\n",
       "<text text-anchor=\"start\" x=\"123\" y=\"-126.8\" font-family=\"Helvetica,sans-Serif\" font-size=\"14.00\" fill=\"#000000\">value = [1, 1]</text>\n",
       "<text text-anchor=\"start\" x=\"132.5\" y=\"-111.8\" font-family=\"Helvetica,sans-Serif\" font-size=\"14.00\" fill=\"#000000\">class = 否</text>\n",
       "</g>\n",
       "<!-- 1&#45;&gt;3 -->\n",
       "<g id=\"edge3\" class=\"edge\">\n",
       "<title>1&#45;&gt;3</title>\n",
       "<path fill=\"none\" stroke=\"#000000\" d=\"M125.7856,-222.8796C129.9557,-214.3236 134.3909,-205.2238 138.6997,-196.3833\"/>\n",
       "<polygon fill=\"#000000\" stroke=\"#000000\" points=\"141.8927,-197.8207 143.1278,-187.2981 135.6003,-194.7538 141.8927,-197.8207\"/>\n",
       "</g>\n",
       "<!-- 4 -->\n",
       "<g id=\"node5\" class=\"node\">\n",
       "<title>4</title>\n",
       "<path fill=\"#e58139\" stroke=\"#000000\" d=\"M142,-68C142,-68 69,-68 69,-68 63,-68 57,-62 57,-56 57,-56 57,-12 57,-12 57,-6 63,0 69,0 69,0 142,0 142,0 148,0 154,-6 154,-12 154,-12 154,-56 154,-56 154,-62 148,-68 142,-68\"/>\n",
       "<text text-anchor=\"start\" x=\"76.5\" y=\"-52.8\" font-family=\"Helvetica,sans-Serif\" font-size=\"14.00\" fill=\"#000000\">gini = 0.0</text>\n",
       "<text text-anchor=\"start\" x=\"67.5\" y=\"-37.8\" font-family=\"Helvetica,sans-Serif\" font-size=\"14.00\" fill=\"#000000\">samples = 1</text>\n",
       "<text text-anchor=\"start\" x=\"65\" y=\"-22.8\" font-family=\"Helvetica,sans-Serif\" font-size=\"14.00\" fill=\"#000000\">value = [1, 0]</text>\n",
       "<text text-anchor=\"start\" x=\"74.5\" y=\"-7.8\" font-family=\"Helvetica,sans-Serif\" font-size=\"14.00\" fill=\"#000000\">class = 否</text>\n",
       "</g>\n",
       "<!-- 3&#45;&gt;4 -->\n",
       "<g id=\"edge4\" class=\"edge\">\n",
       "<title>3&#45;&gt;4</title>\n",
       "<path fill=\"none\" stroke=\"#000000\" d=\"M141.9029,-103.9815C137.3612,-95.2504 132.5598,-86.0202 127.9863,-77.2281\"/>\n",
       "<polygon fill=\"#000000\" stroke=\"#000000\" points=\"131.0431,-75.52 123.3233,-68.2637 124.8331,-78.7504 131.0431,-75.52\"/>\n",
       "</g>\n",
       "<!-- 5 -->\n",
       "<g id=\"node6\" class=\"node\">\n",
       "<title>5</title>\n",
       "<path fill=\"#399de5\" stroke=\"#000000\" d=\"M257,-68C257,-68 184,-68 184,-68 178,-68 172,-62 172,-56 172,-56 172,-12 172,-12 172,-6 178,0 184,0 184,0 257,0 257,0 263,0 269,-6 269,-12 269,-12 269,-56 269,-56 269,-62 263,-68 257,-68\"/>\n",
       "<text text-anchor=\"start\" x=\"191.5\" y=\"-52.8\" font-family=\"Helvetica,sans-Serif\" font-size=\"14.00\" fill=\"#000000\">gini = 0.0</text>\n",
       "<text text-anchor=\"start\" x=\"182.5\" y=\"-37.8\" font-family=\"Helvetica,sans-Serif\" font-size=\"14.00\" fill=\"#000000\">samples = 1</text>\n",
       "<text text-anchor=\"start\" x=\"180\" y=\"-22.8\" font-family=\"Helvetica,sans-Serif\" font-size=\"14.00\" fill=\"#000000\">value = [0, 1]</text>\n",
       "<text text-anchor=\"start\" x=\"189.5\" y=\"-7.8\" font-family=\"Helvetica,sans-Serif\" font-size=\"14.00\" fill=\"#000000\">class = 是</text>\n",
       "</g>\n",
       "<!-- 3&#45;&gt;5 -->\n",
       "<g id=\"edge5\" class=\"edge\">\n",
       "<title>3&#45;&gt;5</title>\n",
       "<path fill=\"none\" stroke=\"#000000\" d=\"M184.7247,-103.9815C189.1881,-95.2504 193.9067,-86.0202 198.4013,-77.2281\"/>\n",
       "<polygon fill=\"#000000\" stroke=\"#000000\" points=\"201.5486,-78.7608 202.984,-68.2637 195.3158,-75.5745 201.5486,-78.7608\"/>\n",
       "</g>\n",
       "</g>\n",
       "</svg>\n"
      ],
      "text/plain": [
       "<graphviz.files.Source at 0x10e39f650>"
      ]
     },
     "execution_count": 34,
     "metadata": {},
     "output_type": "execute_result"
    }
   ],
   "source": [
    "treeplot = tree.export_graphviz(model , out_file = None, \n",
    "                          feature_names = X.columns,  \n",
    "                          class_names = model.classes_,  \n",
    "                          filled = True, rounded = True,  \n",
    "                          special_characters = True)\n",
    "\n",
    "graph = graphviz.Source(treeplot)\n",
    "graph"
   ]
  },
  {
   "cell_type": "code",
   "execution_count": 35,
   "metadata": {},
   "outputs": [
    {
     "name": "stdout",
     "output_type": "stream",
     "text": [
      "def tree(性別, 年齡, 學歷, 居住地_台北市, 居住地_新北市, 居住地_桃園市):\n",
      "  if 年齡 <= 25.5:\n",
      "    if 學歷 <= 0.5:\n",
      "      return [[0. 1.]]\n",
      "    else:  # if 學歷 > 0.5\n",
      "      if 年齡 <= 24.5:\n",
      "        return [[1. 0.]]\n",
      "      else:  # if 年齡 > 24.5\n",
      "        return [[0. 1.]]\n",
      "  else:  # if 年齡 > 25.5\n",
      "    return [[5. 0.]]\n"
     ]
    }
   ],
   "source": [
    "tree_to_code(model , X.columns)"
   ]
  },
  {
   "cell_type": "code",
   "execution_count": 36,
   "metadata": {},
   "outputs": [
    {
     "data": {
      "text/plain": [
       "array([0.        , 0.88888889, 0.11111111, 0.        , 0.        ,\n",
       "       0.        ])"
      ]
     },
     "execution_count": 36,
     "metadata": {},
     "output_type": "execute_result"
    }
   ],
   "source": [
    "model.feature_importances_"
   ]
  },
  {
   "cell_type": "code",
   "execution_count": 37,
   "metadata": {},
   "outputs": [
    {
     "data": {
      "text/plain": [
       "7"
      ]
     },
     "execution_count": 37,
     "metadata": {},
     "output_type": "execute_result"
    }
   ],
   "source": [
    "n_nodes = model.tree_.node_count\n",
    "n_nodes"
   ]
  },
  {
   "cell_type": "code",
   "execution_count": 38,
   "metadata": {},
   "outputs": [
    {
     "data": {
      "text/plain": [
       "array([25.5,  0.5, -2. , 24.5, -2. , -2. , -2. ])"
      ]
     },
     "execution_count": 38,
     "metadata": {},
     "output_type": "execute_result"
    }
   ],
   "source": [
    "threshold = model.tree_.threshold\n",
    "threshold"
   ]
  },
  {
   "cell_type": "code",
   "execution_count": 39,
   "metadata": {},
   "outputs": [
    {
     "data": {
      "text/plain": [
       "array([ 1,  2, -2,  1, -2, -2, -2])"
      ]
     },
     "execution_count": 39,
     "metadata": {},
     "output_type": "execute_result"
    }
   ],
   "source": [
    "model.tree_.feature"
   ]
  },
  {
   "cell_type": "code",
   "execution_count": 40,
   "metadata": {},
   "outputs": [
    {
     "data": {
      "text/plain": [
       "Index(['性別', '年齡', '學歷', '居住地_台北市', '居住地_新北市', '居住地_桃園市'], dtype='object')"
      ]
     },
     "execution_count": 40,
     "metadata": {},
     "output_type": "execute_result"
    }
   ],
   "source": [
    "X.columns"
   ]
  },
  {
   "cell_type": "code",
   "execution_count": 41,
   "metadata": {},
   "outputs": [
    {
     "name": "stdout",
     "output_type": "stream",
     "text": [
      "node 0 condition: 年齡 <= 25.5\n",
      "node 1 condition: 學歷 <= 0.5\n",
      "node 3 condition: 年齡 <= 24.5\n"
     ]
    }
   ],
   "source": [
    "for index , item in enumerate(model.tree_.feature):\n",
    "    if item != -2:\n",
    "        print('node' , index , 'condition:' , X.columns[model.tree_.feature[index]] ,'<=' , threshold[index])"
   ]
  },
  {
   "cell_type": "code",
   "execution_count": 42,
   "metadata": {},
   "outputs": [
    {
     "data": {
      "text/plain": [
       "matrix([[1, 0, 0, 0, 0, 0, 1],\n",
       "        [1, 1, 0, 1, 1, 0, 0]])"
      ]
     },
     "execution_count": 42,
     "metadata": {},
     "output_type": "execute_result"
    }
   ],
   "source": [
    "model.decision_path(X_test).todense()"
   ]
  },
  {
   "cell_type": "code",
   "execution_count": 43,
   "metadata": {},
   "outputs": [
    {
     "data": {
      "text/plain": [
       "array([6, 4])"
      ]
     },
     "execution_count": 43,
     "metadata": {},
     "output_type": "execute_result"
    }
   ],
   "source": [
    "model.apply(X_test)"
   ]
  },
  {
   "cell_type": "code",
   "execution_count": 44,
   "metadata": {},
   "outputs": [
    {
     "data": {
      "text/plain": [
       "array(['否', '否'], dtype=object)"
      ]
     },
     "execution_count": 44,
     "metadata": {},
     "output_type": "execute_result"
    }
   ],
   "source": [
    "model.predict(X_test)"
   ]
  },
  {
   "cell_type": "code",
   "execution_count": 45,
   "metadata": {},
   "outputs": [
    {
     "data": {
      "text/plain": [
       "array(['是'], dtype=object)"
      ]
     },
     "execution_count": 45,
     "metadata": {},
     "output_type": "execute_result"
    }
   ],
   "source": [
    "model.predict([[1, 1, 0, 0, 0, 0],])"
   ]
  }
 ],
 "metadata": {
  "kernelspec": {
   "display_name": "Python 3",
   "language": "python",
   "name": "python3"
  },
  "language_info": {
   "codemirror_mode": {
    "name": "ipython",
    "version": 3
   },
   "file_extension": ".py",
   "mimetype": "text/x-python",
   "name": "python",
   "nbconvert_exporter": "python",
   "pygments_lexer": "ipython3",
   "version": "3.7.6"
  }
 },
 "nbformat": 4,
 "nbformat_minor": 2
}
